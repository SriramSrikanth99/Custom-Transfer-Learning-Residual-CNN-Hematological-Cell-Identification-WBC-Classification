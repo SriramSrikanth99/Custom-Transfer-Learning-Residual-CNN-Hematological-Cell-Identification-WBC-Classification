{
 "cells": [
  {
   "cell_type": "code",
   "execution_count": null,
   "outputs": [],
   "source": [
    "#load dataset\n",
    "import os\n",
    "import cv2"
   ],
   "metadata": {
    "collapsed": false
   },
   "id": "e810fd08a369ddd5"
  },
  {
   "cell_type": "markdown",
   "source": [
    "This code was used to apply masks over the corresponding images and generate the resulting images. This was used for both WBC and cam-16 datasets. (the paths here contain only my cam-16 folders, since I overwrote the paths after generating masks for WBC)"
   ],
   "metadata": {
    "collapsed": false
   },
   "id": "57838cdd6245c4af"
  },
  {
   "cell_type": "code",
   "execution_count": 10,
   "outputs": [],
   "source": [
    "dataset_dir = \"D:\\\\NUS\\\\NNDL\\\\Project\\\\dataset\\\\pRCC_nolabel\"\n",
    "data_folder = 'D:\\\\NUS\\\\NNDL\\\\Project\\\\dataset\\\\CAM16_100cls_10mask\\\\train\\\\data\\\\tumor'\n",
    "masks_folder = 'D:\\\\NUS\\\\NNDL\\\\Project\\\\dataset\\\\CAM16_100cls_10mask\\\\train\\\\mask\\\\tumor'\n",
    "output_folder = 'D:\\\\NUS\\\\NNDL\\\\Project\\\\dataset\\\\CAM16_100cls_10mask\\\\train\\\\new_images_tumor'"
   ],
   "metadata": {
    "collapsed": false,
    "ExecuteTime": {
     "end_time": "2023-10-12T06:24:38.778933900Z",
     "start_time": "2023-10-12T06:24:38.770409700Z"
    }
   },
   "id": "55fee952e28a98f8"
  },
  {
   "cell_type": "code",
   "execution_count": 11,
   "outputs": [],
   "source": [
    "os.makedirs(output_folder, exist_ok=True)\n"
   ],
   "metadata": {
    "collapsed": false,
    "ExecuteTime": {
     "end_time": "2023-10-12T06:24:40.175586Z",
     "start_time": "2023-10-12T06:24:40.166256300Z"
    }
   },
   "id": "b84b41c7448da9d"
  },
  {
   "cell_type": "code",
   "execution_count": null,
   "outputs": [],
   "source": [
    "for filename in os.listdir(data_folder):\n",
    "    if filename.endswith('.jpg') or filename.endswith('.png'):  # Adjust extensions as needed\n",
    "        image_path = os.path.join(data_folder, filename)\n",
    "        mask_path = os.path.join(masks_folder, filename)\n",
    "\n",
    "        if os.path.exists(mask_path):\n",
    "            # Load the image and mask\n",
    "            image = cv2.imread(image_path)\n",
    "            mask = cv2.imread(mask_path)\n",
    "\n",
    "            # Apply the mask to the image\n",
    "            masked_image = cv2.bitwise_and(image, mask)\n",
    "            output_filename = os.path.splitext(filename)[0] + \"_mask_applied\" + os.path.splitext(filename)[1]\n",
    "\n",
    "            # Save the resulting image to the output folder\n",
    "            output_path = os.path.join(output_folder, output_filename)\n",
    "            cv2.imwrite(output_path, masked_image)\n",
    "        else:\n",
    "            print(f\"No mask found for {filename}\")\n"
   ],
   "metadata": {
    "collapsed": false
   },
   "id": "7290c5e4927e2895"
  },
  {
   "cell_type": "code",
   "execution_count": null,
   "outputs": [],
   "source": [
    "'''\n",
    "\n",
    "import os\n",
    "from PIL import Image\n",
    "\n",
    "# Define the target folder to save augmented images\n",
    "target_folder = \"D:\\\\NUS\\\\NNDL\\\\Project\\\\dataset\\\\CAM16_100cls_10mask\\\\train\\\\data\\\\normal_augmented\"\n",
    "\n",
    "# Create the target folder if it doesn't exist\n",
    "os.makedirs(target_folder, exist_ok=True)\n",
    "\n",
    "\n",
    "from torchvision import transforms\n",
    "\n",
    "augmentation_transforms = transforms.Compose([\n",
    "    transforms.RandomHorizontalFlip(),\n",
    "    transforms.RandomRotation(degrees=15),\n",
    "    #transforms.ColorJitter(brightness=0.2, contrast=0.2, saturation=0.2, hue=0.2),\n",
    "    transforms.RandomResizedCrop(size=(700, 700), scale=(0.8, 1.0)),\n",
    "    #transforms.ToTensor(),\n",
    "])\n",
    "\n",
    "\n",
    "from torch.utils.data import Dataset\n",
    "from torchvision import io\n",
    "\n",
    "class AugmentedDataset(Dataset):\n",
    "    def __init__(self, original_dataset, augmentation_transforms):\n",
    "        self.original_dataset = original_dataset\n",
    "        self.augmentation_transforms = augmentation_transforms\n",
    "\n",
    "    def __len__(self):\n",
    "        return len(self.original_dataset)\n",
    "\n",
    "    def __getitem__(self, idx):\n",
    "        original_image = self.original_dataset[idx]\n",
    "        augmented_image = self.augmentation_transforms(original_image)\n",
    "        return augmented_image\n",
    "\n",
    "\n",
    "\n",
    "\n",
    "# Create an instance of the augmented dataset\n",
    "augmented_data = AugmentedDataset(train_data, augmentation_transforms)\n",
    "\n",
    "# Loop through the augmented dataset and save images\n",
    "for i, augmented_image in enumerate(augmented_data):\n",
    "    print(i)\n",
    "    image_path = os.path.join(target_folder, f\"augmented_image_{i}.png\")\n",
    "    augmented_image = (augmented_image * 255).numpy().astype('uint8')  # Convert to 8-bit format\n",
    "    augmented_image = Image.fromarray(augmented_image.transpose(1, 2, 0))\n",
    "    augmented_image.save(image_path)\n",
    "'''"
   ],
   "metadata": {
    "collapsed": false
   },
   "id": "f39b1873daf45f31"
  }
 ],
 "metadata": {
  "kernelspec": {
   "display_name": "Python 3",
   "language": "python",
   "name": "python3"
  },
  "language_info": {
   "codemirror_mode": {
    "name": "ipython",
    "version": 2
   },
   "file_extension": ".py",
   "mimetype": "text/x-python",
   "name": "python",
   "nbconvert_exporter": "python",
   "pygments_lexer": "ipython2",
   "version": "2.7.6"
  }
 },
 "nbformat": 4,
 "nbformat_minor": 5
}
