{
  "nbformat": 4,
  "nbformat_minor": 0,
  "metadata": {
    "colab": {
      "provenance": [],
      "gpuType": "T4"
    },
    "kernelspec": {
      "name": "python3",
      "display_name": "Python 3"
    },
    "language_info": {
      "name": "python"
    },
    "accelerator": "GPU"
  },
  "cells": [
    {
      "cell_type": "markdown",
      "source": [
        "This notebook contains the code and output for training and validation of WBC with masks. It uses the same architecture as the plain WBC, but the dataset that this was trained on would contain masked images too.\n",
        "\n",
        "**This model has been combined with pRCC and cam-16 to created a weighted ensemble model. So for validation of the improved combined model, kindly refer to the notebooks that are titled\n",
        "'WBC_1_ensemble_with_masks_and_pretraining.ipnynb',\n",
        " 'WBC_10_ensemble_with_masks_and_pretraining.ipnynb', 'WBC_50_ensemble_with_masks_and_pretraining.ipnynb', 'WBC_100_ensemble_with_masks_and_pretraining.ipnynb'**"
      ],
      "metadata": {
        "id": "8qYx2cBu7tbj"
      }
    },
    {
      "cell_type": "code",
      "execution_count": null,
      "metadata": {
        "colab": {
          "base_uri": "https://localhost:8080/"
        },
        "id": "WKFlxy_lhvXH",
        "outputId": "5ee93b5b-740a-4fd7-b4b0-88ea4e46f750"
      },
      "outputs": [
        {
          "output_type": "stream",
          "name": "stdout",
          "text": [
            "Mounted at /content/drive\n"
          ]
        }
      ],
      "source": [
        "from google.colab import drive\n",
        "drive.mount('/content/drive')"
      ]
    },
    {
      "cell_type": "code",
      "source": [
        "import torch\n",
        "import torch.nn as nn\n",
        "import torch.optim as optim\n",
        "import torchvision\n",
        "import torchvision.transforms as transforms\n",
        "import matplotlib.pyplot as plt\n",
        "from torch.utils.data import DataLoader, Dataset\n",
        "import os\n"
      ],
      "metadata": {
        "id": "oJC08yxUyy7s"
      },
      "execution_count": null,
      "outputs": []
    },
    {
      "cell_type": "code",
      "source": [
        "import os\n",
        "import torch\n",
        "import torch.nn as nn\n",
        "import torch.optim as optim\n",
        "import torchvision\n",
        "from torchvision import transforms, datasets\n",
        "from torch.utils.data import DataLoader\n",
        "\n",
        "# Define the paths to your dataset directories\n",
        "\n",
        "train_dir = '/content/drive/My Drive/WBC_with_mask/WBC_1/train/data'\n",
        "val_dir = '/content/drive/My Drive/dataset/WBC_100/val/data'\n",
        "\n",
        "# Image dimensions\n",
        "img_width, img_height = 575, 575\n",
        "\n",
        "# Define data transformations for image preprocessing\n",
        "transform = transforms.Compose([\n",
        "    transforms.Resize((img_width, img_height)),\n",
        "    transforms.ToTensor(),\n",
        "])\n",
        "\n",
        "# Load data from the 'train' directory\n",
        "train_data = datasets.ImageFolder(train_dir, transform=transform)\n",
        "train_loader = DataLoader(train_data, batch_size=4, shuffle=True)\n",
        "\n",
        "# Load data from the 'val' directory\n",
        "val_data = datasets.ImageFolder(val_dir, transform=transform)\n",
        "val_loader = DataLoader(val_data, batch_size=4)\n",
        "\n",
        "\n"
      ],
      "metadata": {
        "id": "VGl_sD8czv64"
      },
      "execution_count": null,
      "outputs": []
    },
    {
      "cell_type": "code",
      "source": [
        "tl = len(train_loader.dataset)\n",
        "print(\"Length of the dataset:\", tl)\n",
        "\n",
        "vl = len(val_loader.dataset)\n",
        "print(\"Length of the dataset:\", vl)\n"
      ],
      "metadata": {
        "colab": {
          "base_uri": "https://localhost:8080/"
        },
        "id": "31VSy28a-b8K",
        "outputId": "3d07a912-ebe7-4f1b-a401-76b07c1dedc0"
      },
      "execution_count": null,
      "outputs": [
        {
          "output_type": "stream",
          "name": "stdout",
          "text": [
            "Length of the dataset: 89\n",
            "Length of the dataset: 1728\n"
          ]
        }
      ]
    },
    {
      "cell_type": "code",
      "source": [
        "# Define a custom convolutional neural network with residual blocks\n",
        "class My_CNN(nn.Module):\n",
        "    def __init__(self):\n",
        "        super(My_CNN, self).__init__()\n",
        "        self.in_channels = 64\n",
        "        self.conv1 = self.conv_block(3, 64, stride=1)\n",
        "        self.conv2_x = self.residual_block(64, 128, num_blocks=3, stride=2)\n",
        "        self.conv3_x = self.residual_block(128, 256, num_blocks=4, stride=2)\n",
        "        self.conv4_x = self.residual_block(256, 256, num_blocks=6, stride=2)\n",
        "        #self.conv5_x = self.residual_block(512, 512, num_blocks=3, stride=2)\n",
        "        self.fc = nn.Linear(256, 5)  # Updated fully connected layer input size\n",
        "\n",
        "    def conv_block(self, in_channels, out_channels, stride=1):\n",
        "        return nn.Sequential(\n",
        "            nn.Conv2d(in_channels, out_channels, kernel_size=3, stride=stride, padding=1, bias=False),\n",
        "            nn.BatchNorm2d(out_channels),\n",
        "            nn.ReLU(inplace=True),\n",
        "        )\n",
        "\n",
        "    def residual_block(self, in_channels, out_channels, num_blocks, stride):\n",
        "        layers = []\n",
        "        layers.append(self.conv_block(in_channels, out_channels, stride))\n",
        "        for _ in range(1, num_blocks):\n",
        "            layers.append(self.conv_block(out_channels, out_channels))\n",
        "        return nn.Sequential(*layers)\n",
        "\n",
        "    def forward(self, x):\n",
        "        x = self.conv1(x)\n",
        "        x = self.conv2_x(x)\n",
        "        x = self.conv3_x(x)\n",
        "        x = self.conv4_x(x)\n",
        "        #x = self.conv5_x(x)\n",
        "        x = nn.functional.avg_pool2d(x, x.size(2))  # Global average pooling\n",
        "        x = x.view(x.size(0), -1)\n",
        "        x = self.fc(x)\n",
        "        return x"
      ],
      "metadata": {
        "id": "J5JPrxbKHK1W"
      },
      "execution_count": null,
      "outputs": []
    },
    {
      "cell_type": "code",
      "source": [
        "import torch\n",
        "import torch.nn as nn\n",
        "import torch.nn.functional as F\n",
        "\n",
        "# Define the basic residual block\n",
        "class BasicResidualBlock(nn.Module):\n",
        "    def __init__(self, in_channels, out_channels, stride=1):\n",
        "        super(BasicResidualBlock, self).__init__()\n",
        "        self.conv1 = nn.Conv2d(in_channels, out_channels, kernel_size=3, stride=stride, padding=1, bias=False)\n",
        "        self.bn1 = nn.BatchNorm2d(out_channels)\n",
        "        self.relu = nn.ReLU(inplace=True)\n",
        "        self.conv2 = nn.Conv2d(out_channels, out_channels, kernel_size=3, padding=1, bias=False)\n",
        "        self.bn2 = nn.BatchNorm2d(out_channels)\n",
        "        self.shortcut = nn.Sequential()\n",
        "\n",
        "        if stride != 1 or in_channels != out_channels:\n",
        "            self.shortcut = nn.Sequential(\n",
        "                nn.Conv2d(in_channels, out_channels, kernel_size=1, stride=stride, bias=False),\n",
        "                nn.BatchNorm2d(out_channels)\n",
        "            )\n",
        "\n",
        "    def forward(self, x):\n",
        "        out = self.conv1(x)\n",
        "        out = self.bn1(out)\n",
        "        out = self.relu(out)\n",
        "        out = self.conv2(out)\n",
        "        out = self.bn2(out)\n",
        "        out += self.shortcut(x)\n",
        "        out = self.relu(out)\n",
        "        return out\n",
        "\n",
        "# Define the CNN model with two residual blocks\n",
        "class ResNet(nn.Module):\n",
        "    def __init__(self, num_classes=5):\n",
        "        super(ResNet, self).__init__()\n",
        "        self.in_channels = 64\n",
        "        self.conv1 = nn.Conv2d(3, 64, kernel_size=7, stride=2, padding=3, bias=False)\n",
        "        self.bn1 = nn.BatchNorm2d(64)\n",
        "        self.relu = nn.ReLU(inplace=True)\n",
        "        self.maxpool = nn.MaxPool2d(kernel_size=3, stride=2, padding=1)\n",
        "\n",
        "        self.layer1 = self._make_layer(BasicResidualBlock, 64, 2)\n",
        "        self.layer2 = self._make_layer(BasicResidualBlock, 128, 2, stride=2)\n",
        "\n",
        "        self.avgpool = nn.AdaptiveAvgPool2d((1, 1))\n",
        "        self.fc = nn.Linear(128, 5)\n",
        "\n",
        "    def _make_layer(self, block, out_channels, num_blocks, stride=1):\n",
        "        layers = []\n",
        "        layers.append(block(self.in_channels, out_channels, stride))\n",
        "        self.in_channels = out_channels\n",
        "        for _ in range(1, num_blocks):\n",
        "            layers.append(block(out_channels, out_channels))\n",
        "        return nn.Sequential(*layers)\n",
        "\n",
        "    def forward(self, x):\n",
        "        out = self.conv1(x)\n",
        "        out = self.bn1(out)\n",
        "        out = self.relu(out)\n",
        "        out = self.maxpool(out)\n",
        "        out = self.layer1(out)\n",
        "        out = self.layer2(out)\n",
        "        out = self.avgpool(out)\n",
        "        out = out.view(out.size(0), -1)\n",
        "        out = self.fc(out)\n",
        "        return out\n",
        "\n",
        "# Initialize the model\n",
        "net = ResNet()\n",
        "\n",
        "# Define the loss function and optimizer\n",
        "criterion = nn.CrossEntropyLoss()\n",
        "optimizer = torch.optim.SGD(net.parameters(), lr=0.001, momentum=0.9)"
      ],
      "metadata": {
        "id": "czbw3pQgHIV-"
      },
      "execution_count": null,
      "outputs": []
    },
    {
      "cell_type": "code",
      "source": [
        "\n",
        "# Check if a GPU is available and set the device accordingly\n",
        "device = torch.device(\"cuda:0\" if torch.cuda.is_available() else \"cpu\")\n",
        "\n",
        "# Create an instance of the My_CNN and move it to the GPU if available\n",
        "net = ResNet().to(device)\n",
        "\n",
        "# Define loss function and optimizer with weight decay\n",
        "criterion = nn.CrossEntropyLoss()\n",
        "optimizer = optim.Adam(net.parameters(), lr=0.001, weight_decay=0.0001)\n",
        "\n",
        "batch_size = 4\n",
        "\n"
      ],
      "metadata": {
        "id": "qwS8NKp5xjID"
      },
      "execution_count": null,
      "outputs": []
    },
    {
      "cell_type": "code",
      "source": [
        "# Training loop\n",
        "num_epochs = 20\n",
        "train_loss_history = []\n",
        "train_accuracy_history = []\n",
        "test_loss_history = []\n",
        "test_accuracy_history = []\n",
        "best_test_accuracy = 0.0\n",
        "best_model_path = 'best_my_wbc_model.pth'\n",
        "\n",
        "for epoch in range(num_epochs):\n",
        "    print(\"started epoch: \", epoch)\n",
        "    net.train()\n",
        "    running_loss = 0.0\n",
        "    correct = 0\n",
        "    total = 0\n",
        "\n",
        "    for i, data in enumerate(train_loader, 0):\n",
        "        #print(\"processing batch\")\n",
        "        inputs, labels = data\n",
        "        inputs, labels = inputs.to(device), labels.to(device)\n",
        "        optimizer.zero_grad()\n",
        "        outputs = net(inputs)\n",
        "        loss = criterion(outputs, labels)\n",
        "        loss.backward()\n",
        "        optimizer.step()\n",
        "\n",
        "        running_loss += loss.item()\n",
        "        _, predicted = torch.max(outputs.data, 1)\n",
        "        total += labels.size(0)\n",
        "        correct += (predicted == labels).sum().item()\n",
        "\n",
        "    train_loss = running_loss / len(train_loader)\n",
        "    train_accuracy = (correct / total) * 100\n",
        "    train_loss_history.append(train_loss)\n",
        "    train_accuracy_history.append(train_accuracy)\n",
        "\n",
        "    net.eval()\n",
        "    running_loss = 0.0\n",
        "    correct = 0\n",
        "    total = 0\n",
        "\n",
        "    with torch.no_grad():\n",
        "        for data in val_loader:\n",
        "            inputs, labels = data\n",
        "            inputs, labels = inputs.to(device), labels.to(device)\n",
        "            outputs = net(inputs)\n",
        "            loss = criterion(outputs, labels)\n",
        "\n",
        "            running_loss += loss.item()\n",
        "            _, predicted = torch.max(outputs.data, 1)\n",
        "            total += labels.size(0)\n",
        "            correct += (predicted == labels).sum().item()\n",
        "\n",
        "    test_loss = running_loss / len(val_loader)\n",
        "    test_accuracy = (correct / total) * 100\n",
        "    test_loss_history.append(test_loss)\n",
        "    test_accuracy_history.append(test_accuracy)\n",
        "\n",
        "    if test_accuracy > best_test_accuracy:\n",
        "        # Save the model with the best weights\n",
        "        best_test_accuracy = test_accuracy\n",
        "        torch.save(net.state_dict(), best_model_path)\n",
        "        print(f\"Best model saved to {best_model_path}\")\n",
        "\n",
        "    print(f'Epoch [{epoch + 1}/{num_epochs}] - Train Loss: {train_loss:.4f} - Train Acc: {train_accuracy:.2f}% - Val Loss: {test_loss:.4f} - Val Acc: {test_accuracy:.2f}%')\n",
        "\n",
        "torch.save(net.state_dict(), 'my_wbc.pth')"
      ],
      "metadata": {
        "colab": {
          "base_uri": "https://localhost:8080/"
        },
        "id": "l_WSgfNZzTyb",
        "outputId": "5dce73e6-734b-4606-a8ad-475a3d3993ee"
      },
      "execution_count": null,
      "outputs": [
        {
          "output_type": "stream",
          "name": "stdout",
          "text": [
            "started epoch:  0\n",
            "Best model saved to best_my_wbc_model.pth\n",
            "Epoch [1/20] - Train Loss: 1.1826 - Train Acc: 52.81% - Val Loss: 1.9901 - Val Acc: 61.28%\n",
            "started epoch:  1\n",
            "Epoch [2/20] - Train Loss: 1.0524 - Train Acc: 60.67% - Val Loss: 1.2368 - Val Acc: 61.28%\n",
            "started epoch:  2\n",
            "Best model saved to best_my_wbc_model.pth\n",
            "Epoch [3/20] - Train Loss: 1.0015 - Train Acc: 62.92% - Val Loss: 1.0890 - Val Acc: 61.34%\n",
            "started epoch:  3\n",
            "Epoch [4/20] - Train Loss: 0.9707 - Train Acc: 62.92% - Val Loss: 1.2970 - Val Acc: 35.19%\n",
            "started epoch:  4\n",
            "Epoch [5/20] - Train Loss: 1.0162 - Train Acc: 61.80% - Val Loss: 1.1670 - Val Acc: 61.28%\n",
            "started epoch:  5\n",
            "Epoch [6/20] - Train Loss: 1.0785 - Train Acc: 58.43% - Val Loss: 1.2154 - Val Acc: 55.56%\n",
            "started epoch:  6\n",
            "Epoch [7/20] - Train Loss: 1.0420 - Train Acc: 62.92% - Val Loss: 2.8045 - Val Acc: 43.00%\n",
            "started epoch:  7\n",
            "Epoch [8/20] - Train Loss: 1.0228 - Train Acc: 62.92% - Val Loss: 2.8111 - Val Acc: 61.23%\n",
            "started epoch:  8\n",
            "Best model saved to best_my_wbc_model.pth\n",
            "Epoch [9/20] - Train Loss: 0.9802 - Train Acc: 65.17% - Val Loss: 1.0531 - Val Acc: 61.98%\n",
            "started epoch:  9\n",
            "Epoch [10/20] - Train Loss: 0.8770 - Train Acc: 62.92% - Val Loss: 1.8606 - Val Acc: 60.88%\n",
            "started epoch:  10\n",
            "Epoch [11/20] - Train Loss: 0.9499 - Train Acc: 67.42% - Val Loss: 9.7474 - Val Acc: 7.41%\n",
            "started epoch:  11\n",
            "Epoch [12/20] - Train Loss: 1.0133 - Train Acc: 66.29% - Val Loss: 1.2716 - Val Acc: 61.34%\n",
            "started epoch:  12\n",
            "Best model saved to best_my_wbc_model.pth\n",
            "Epoch [13/20] - Train Loss: 0.8749 - Train Acc: 70.79% - Val Loss: 1.0209 - Val Acc: 62.27%\n",
            "started epoch:  13\n",
            "Best model saved to best_my_wbc_model.pth\n",
            "Epoch [14/20] - Train Loss: 0.8414 - Train Acc: 68.54% - Val Loss: 1.0861 - Val Acc: 63.48%\n",
            "started epoch:  14\n",
            "Epoch [15/20] - Train Loss: 0.9286 - Train Acc: 74.16% - Val Loss: 1.7369 - Val Acc: 62.33%\n",
            "started epoch:  15\n",
            "Epoch [16/20] - Train Loss: 0.8998 - Train Acc: 66.29% - Val Loss: 3.4745 - Val Acc: 60.88%\n",
            "started epoch:  16\n",
            "Epoch [17/20] - Train Loss: 0.9544 - Train Acc: 65.17% - Val Loss: 1.6000 - Val Acc: 24.13%\n",
            "started epoch:  17\n",
            "Best model saved to best_my_wbc_model.pth\n",
            "Epoch [18/20] - Train Loss: 0.8473 - Train Acc: 67.42% - Val Loss: 0.9688 - Val Acc: 65.80%\n",
            "started epoch:  18\n",
            "Best model saved to best_my_wbc_model.pth\n",
            "Epoch [19/20] - Train Loss: 0.8887 - Train Acc: 62.92% - Val Loss: 0.8736 - Val Acc: 68.63%\n",
            "started epoch:  19\n",
            "Epoch [20/20] - Train Loss: 0.7812 - Train Acc: 70.79% - Val Loss: 0.9420 - Val Acc: 62.21%\n"
          ]
        }
      ]
    },
    {
      "cell_type": "code",
      "source": [
        "#note to self: this is the final model. for best model it is under best_my_wbc_model.pth. downloaded to laptop too. use that for future preds\n",
        "torch.save(net.state_dict(), '/content/drive/My Drive/my_wbc_1.pth')"
      ],
      "metadata": {
        "id": "CAJdm1SiP70d"
      },
      "execution_count": null,
      "outputs": []
    },
    {
      "cell_type": "code",
      "source": [
        "print(train_loss_history)\n",
        "print(test_loss_history)\n",
        "print(train_accuracy_history)\n",
        "print(test_accuracy_history)"
      ],
      "metadata": {
        "colab": {
          "base_uri": "https://localhost:8080/"
        },
        "id": "bd4mvDMvN5U8",
        "outputId": "26dd816b-7f43-472d-cf4d-995192b7b369"
      },
      "execution_count": null,
      "outputs": [
        {
          "output_type": "stream",
          "name": "stdout",
          "text": [
            "[1.1825669524462328, 1.0523993463619896, 1.001516184081202, 0.9706658746885217, 1.0162291306516398, 1.0784871344980986, 1.042021535013033, 1.0227816027143728, 0.9801937186199686, 0.8770173865815868, 0.9499168745849443, 1.0132654399975487, 0.874862068373224, 0.8413995815360028, 0.9286207608554674, 0.8998101068579633, 0.9543741008509761, 0.8472671612449314, 0.8887341255727021, 0.7811983357305112]\n",
            "[1.9901451078605734, 1.2367725815899946, 1.0890095578851524, 1.2970240928784564, 1.1669870571543772, 1.2154473590630073, 2.804549508176192, 2.8111418239719503, 1.0530905793938372, 1.8605964533799797, 9.74738766213327, 1.2716173597059592, 1.0209375240288123, 1.08612676339086, 1.7368799079149202, 3.474498765616402, 1.600002011353219, 0.9688483393854566, 0.8736411043511773, 0.9420470879930589]\n",
            "[52.80898876404494, 60.67415730337079, 62.92134831460674, 62.92134831460674, 61.79775280898876, 58.42696629213483, 62.92134831460674, 62.92134831460674, 65.1685393258427, 62.92134831460674, 67.41573033707866, 66.29213483146067, 70.78651685393258, 68.53932584269663, 74.15730337078652, 66.29213483146067, 65.1685393258427, 67.41573033707866, 62.92134831460674, 70.78651685393258]\n",
            "[61.28472222222222, 61.28472222222222, 61.342592592592595, 35.18518518518518, 61.28472222222222, 55.55555555555556, 42.99768518518518, 61.22685185185185, 61.979166666666664, 60.879629629629626, 7.4074074074074066, 61.342592592592595, 62.268518518518526, 63.48379629629629, 62.326388888888886, 60.879629629629626, 24.131944444444446, 65.79861111111111, 68.63425925925925, 62.21064814814815]\n"
          ]
        }
      ]
    },
    {
      "cell_type": "code",
      "source": [
        "# Save and display training and testing statistics\n",
        "plt.figure(figsize=(12, 4))\n",
        "plt.subplot(1, 2, 1)\n",
        "plt.plot(range(num_epochs), train_loss_history, label='Training Loss')\n",
        "plt.plot(range(num_epochs), test_loss_history, label='Validation Loss')\n",
        "plt.xlabel('Epochs')\n",
        "plt.ylabel('Loss')\n",
        "plt.legend()\n",
        "\n",
        "plt.subplot(1, 2, 2)\n",
        "plt.plot(range(num_epochs), train_accuracy_history, label='Training Accuracy')\n",
        "plt.plot(range(num_epochs), test_accuracy_history, label='Validation Accuracy')\n",
        "plt.xlabel('Epochs')\n",
        "plt.ylabel('Accuracy (%)')\n",
        "plt.legend()\n",
        "\n",
        "plt.tight_layout()\n",
        "plt.show()"
      ],
      "metadata": {
        "colab": {
          "base_uri": "https://localhost:8080/",
          "height": 237
        },
        "id": "iA2O5q1YyvfK",
        "outputId": "11a1e099-2669-4564-8db4-8ab824afe0fa"
      },
      "execution_count": null,
      "outputs": [
        {
          "output_type": "display_data",
          "data": {
            "text/plain": [
              "<Figure size 1200x400 with 2 Axes>"
            ],
            "image/png": "[encoded data removed]"
          },
          "metadata": {}
        }
      ]
    },
    {
      "cell_type": "code",
      "source": [],
      "metadata": {
        "id": "OzPPowz_8qDy"
      },
      "execution_count": null,
      "outputs": []
    },
    {
      "cell_type": "markdown",
      "source": [
        "This notebook contains the code and output for training and validation of WBC with masks. It uses the same architecture as the plain WBC, but the dataset that this was trained on would contain masked images too.\n",
        "\n",
        "**This model has been combined with pRCC and cam-16 to created a weighted ensemble model. So for validation of the improved combined model, kindly refer to the notebooks that are titled\n",
        "'WBC_1_ensemble_with_masks_and_pretraining.ipnynb, 'WBC_10_ensemble_with_masks_and_pretraining.ipnynb', 'WBC_50_ensemble_with_masks_and_pretraining.ipnynb', 'WBC_100_ensemble_with_masks_and_pretraining.ipnynb'**"
      ],
      "metadata": {
        "id": "51RaANhJ9wM4"
      }
    }
  ]
}