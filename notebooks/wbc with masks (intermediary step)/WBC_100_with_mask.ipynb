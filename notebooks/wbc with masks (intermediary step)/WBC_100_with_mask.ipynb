{
  "nbformat": 4,
  "nbformat_minor": 0,
  "metadata": {
    "colab": {
      "provenance": [],
      "gpuType": "T4"
    },
    "kernelspec": {
      "name": "python3",
      "display_name": "Python 3"
    },
    "language_info": {
      "name": "python"
    },
    "accelerator": "GPU"
  },
  "cells": [
    {
      "cell_type": "markdown",
      "source": [
        "This notebook contains the code and output for training and validation of WBC with masks. It uses the same architecture as the plain WBC, but the dataset that this was trained on would contain masked images too.\n",
        "\n",
        "**This model has been combined with pRCC and cam-16 to created a weighted ensemble model. So for validation of the improved combined model, kindly refer to the notebooks that are titled\n",
        "'WBC_1_ensemble_with_masks_and_pretraining.ipnynb, 'WBC_10_ensemble_with_masks_and_pretraining.ipnynb', 'WBC_50_ensemble_with_masks_and_pretraining.ipnynb', 'WBC_100_ensemble_with_masks_and_pretraining.ipnynb'**"
      ],
      "metadata": {
        "id": "8qYx2cBu7tbj"
      }
    },
    {
      "cell_type": "code",
      "execution_count": null,
      "metadata": {
        "colab": {
          "base_uri": "https://localhost:8080/"
        },
        "id": "WKFlxy_lhvXH",
        "outputId": "6c1a3aee-b16a-4fa8-a082-84786554a109"
      },
      "outputs": [
        {
          "output_type": "stream",
          "name": "stdout",
          "text": [
            "Mounted at /content/drive\n"
          ]
        }
      ],
      "source": [
        "from google.colab import drive\n",
        "drive.mount('/content/drive')"
      ]
    },
    {
      "cell_type": "code",
      "source": [
        "import torch\n",
        "import torch.nn as nn\n",
        "import torch.optim as optim\n",
        "import torchvision\n",
        "import torchvision.transforms as transforms\n",
        "import matplotlib.pyplot as plt\n",
        "from torch.utils.data import DataLoader, Dataset\n",
        "import os\n"
      ],
      "metadata": {
        "id": "oJC08yxUyy7s"
      },
      "execution_count": null,
      "outputs": []
    },
    {
      "cell_type": "code",
      "source": [
        "import os\n",
        "import torch\n",
        "import torch.nn as nn\n",
        "import torch.optim as optim\n",
        "import torchvision\n",
        "from torchvision import transforms, datasets\n",
        "from torch.utils.data import DataLoader\n",
        "\n",
        "# Define the paths to your dataset directories\n",
        "\n",
        "train_dir = '/content/drive/My Drive/WBC_with_mask/WBC_100/train/data'\n",
        "val_dir = '/content/drive/My Drive/dataset/WBC_100/val/data'\n",
        "\n",
        "# Image dimensions\n",
        "img_width, img_height = 575, 575\n",
        "\n",
        "# Define label mappings\n",
        "#label_mapping = {\n",
        "#    'normal': 0,\n",
        "#    'tumor': 1\n",
        "#}\n",
        "\n",
        "# Define data transformations for image preprocessing\n",
        "transform = transforms.Compose([\n",
        "    transforms.Resize((img_width, img_height)),\n",
        "    transforms.ToTensor(),\n",
        "])\n",
        "\n",
        "# Load data from the 'train' directory\n",
        "train_data = datasets.ImageFolder(train_dir, transform=transform)\n",
        "train_loader = DataLoader(train_data, batch_size=4, shuffle=True)\n",
        "\n",
        "# Load data from the 'val' directory\n",
        "val_data = datasets.ImageFolder(val_dir, transform=transform)\n",
        "val_loader = DataLoader(val_data, batch_size=4)\n",
        "\n",
        "# Load data from the 'test' directory\n",
        "#test_data = datasets.ImageFolder(test_dir, transform=transform)\n",
        "#test_loader = DataLoader(test_data, batch_size=32)\n",
        "\n"
      ],
      "metadata": {
        "id": "VGl_sD8czv64"
      },
      "execution_count": null,
      "outputs": []
    },
    {
      "cell_type": "code",
      "source": [
        "tl = len(train_loader.dataset)\n",
        "print(\"Length of the dataset:\", tl)\n",
        "\n",
        "vl = len(val_loader.dataset)\n",
        "print(\"Length of the dataset:\", vl)\n"
      ],
      "metadata": {
        "colab": {
          "base_uri": "https://localhost:8080/"
        },
        "id": "31VSy28a-b8K",
        "outputId": "d5dd252d-16b4-4cf8-8b25-2936fbec1e1b"
      },
      "execution_count": null,
      "outputs": [
        {
          "output_type": "stream",
          "name": "stdout",
          "text": [
            "Length of the dataset: 9289\n",
            "Length of the dataset: 1728\n"
          ]
        }
      ]
    },
    {
      "cell_type": "code",
      "source": [
        "import torch\n",
        "import torch.nn as nn\n",
        "import torch.nn.functional as F\n",
        "\n",
        "# Define the basic residual block\n",
        "class BasicResidualBlock(nn.Module):\n",
        "    def __init__(self, in_channels, out_channels, stride=1):\n",
        "        super(BasicResidualBlock, self).__init__()\n",
        "        self.conv1 = nn.Conv2d(in_channels, out_channels, kernel_size=3, stride=stride, padding=1, bias=False)\n",
        "        self.bn1 = nn.BatchNorm2d(out_channels)\n",
        "        self.relu = nn.ReLU(inplace=True)\n",
        "        self.conv2 = nn.Conv2d(out_channels, out_channels, kernel_size=3, padding=1, bias=False)\n",
        "        self.bn2 = nn.BatchNorm2d(out_channels)\n",
        "        self.shortcut = nn.Sequential()\n",
        "\n",
        "        if stride != 1 or in_channels != out_channels:\n",
        "            self.shortcut = nn.Sequential(\n",
        "                nn.Conv2d(in_channels, out_channels, kernel_size=1, stride=stride, bias=False),\n",
        "                nn.BatchNorm2d(out_channels)\n",
        "            )\n",
        "\n",
        "    def forward(self, x):\n",
        "        out = self.conv1(x)\n",
        "        out = self.bn1(out)\n",
        "        out = self.relu(out)\n",
        "        out = self.conv2(out)\n",
        "        out = self.bn2(out)\n",
        "        out += self.shortcut(x)\n",
        "        out = self.relu(out)\n",
        "        return out\n",
        "\n",
        "# Define the CNN model with two residual blocks\n",
        "class ResNet(nn.Module):\n",
        "    def __init__(self, num_classes=5):\n",
        "        super(ResNet, self).__init__()\n",
        "        self.in_channels = 64\n",
        "        self.conv1 = nn.Conv2d(3, 64, kernel_size=7, stride=2, padding=3, bias=False)\n",
        "        self.bn1 = nn.BatchNorm2d(64)\n",
        "        self.relu = nn.ReLU(inplace=True)\n",
        "        self.maxpool = nn.MaxPool2d(kernel_size=3, stride=2, padding=1)\n",
        "\n",
        "        self.layer1 = self._make_layer(BasicResidualBlock, 64, 2)\n",
        "        self.layer2 = self._make_layer(BasicResidualBlock, 128, 2, stride=2)\n",
        "\n",
        "        self.avgpool = nn.AdaptiveAvgPool2d((1, 1))\n",
        "        self.fc = nn.Linear(128, 5)\n",
        "\n",
        "    def _make_layer(self, block, out_channels, num_blocks, stride=1):\n",
        "        layers = []\n",
        "        layers.append(block(self.in_channels, out_channels, stride))\n",
        "        self.in_channels = out_channels\n",
        "        for _ in range(1, num_blocks):\n",
        "            layers.append(block(out_channels, out_channels))\n",
        "        return nn.Sequential(*layers)\n",
        "\n",
        "    def forward(self, x):\n",
        "        out = self.conv1(x)\n",
        "        out = self.bn1(out)\n",
        "        out = self.relu(out)\n",
        "        out = self.maxpool(out)\n",
        "        out = self.layer1(out)\n",
        "        out = self.layer2(out)\n",
        "        out = self.avgpool(out)\n",
        "        out = out.view(out.size(0), -1)\n",
        "        out = self.fc(out)\n",
        "        return out\n",
        "\n",
        "# Initialize the model\n",
        "net = ResNet()\n",
        "\n",
        "# Define the loss function and optimizer\n",
        "criterion = nn.CrossEntropyLoss()\n"
      ],
      "metadata": {
        "id": "czbw3pQgHIV-"
      },
      "execution_count": null,
      "outputs": []
    },
    {
      "cell_type": "code",
      "source": [
        "\n",
        "# Check if a GPU is available and set the device accordingly\n",
        "device = torch.device(\"cuda:0\" if torch.cuda.is_available() else \"cpu\")\n",
        "\n",
        "# Create an instance of the My_CNN and move it to the GPU if available\n",
        "net = ResNet().to(device)\n",
        "\n",
        "# Define loss function and optimizer with weight decay\n",
        "criterion = nn.CrossEntropyLoss()\n",
        "optimizer = optim.Adam(net.parameters(), lr=0.001, weight_decay=0.0001)\n",
        "\n",
        "batch_size = 4\n",
        "\n"
      ],
      "metadata": {
        "id": "qwS8NKp5xjID"
      },
      "execution_count": null,
      "outputs": []
    },
    {
      "cell_type": "code",
      "source": [
        "# Training loop\n",
        "num_epochs = 20\n",
        "train_loss_history = []\n",
        "train_accuracy_history = []\n",
        "test_loss_history = []\n",
        "test_accuracy_history = []\n",
        "best_test_accuracy = 0.0\n",
        "best_model_path = 'best_my_wbc_100_model.pth'\n",
        "\n",
        "for epoch in range(num_epochs):\n",
        "    print(\"started epoch: \", epoch)\n",
        "    net.train()\n",
        "    running_loss = 0.0\n",
        "    correct = 0\n",
        "    total = 0\n",
        "\n",
        "    for i, data in enumerate(train_loader, 0):\n",
        "        #print(\"processing batch\")\n",
        "        inputs, labels = data\n",
        "        inputs, labels = inputs.to(device), labels.to(device)\n",
        "        optimizer.zero_grad()\n",
        "        outputs = net(inputs)\n",
        "        loss = criterion(outputs, labels)\n",
        "        loss.backward()\n",
        "        optimizer.step()\n",
        "\n",
        "        running_loss += loss.item()\n",
        "        _, predicted = torch.max(outputs.data, 1)\n",
        "        total += labels.size(0)\n",
        "        correct += (predicted == labels).sum().item()\n",
        "\n",
        "    train_loss = running_loss / len(train_loader)\n",
        "    train_accuracy = (correct / total) * 100\n",
        "    train_loss_history.append(train_loss)\n",
        "    train_accuracy_history.append(train_accuracy)\n",
        "\n",
        "    net.eval()\n",
        "    running_loss = 0.0\n",
        "    correct = 0\n",
        "    total = 0\n",
        "\n",
        "    with torch.no_grad():\n",
        "        for data in val_loader:\n",
        "            inputs, labels = data\n",
        "            inputs, labels = inputs.to(device), labels.to(device)\n",
        "            outputs = net(inputs)\n",
        "            loss = criterion(outputs, labels)\n",
        "\n",
        "            running_loss += loss.item()\n",
        "            _, predicted = torch.max(outputs.data, 1)\n",
        "            total += labels.size(0)\n",
        "            correct += (predicted == labels).sum().item()\n",
        "\n",
        "    test_loss = running_loss / len(val_loader)\n",
        "    test_accuracy = (correct / total) * 100\n",
        "    test_loss_history.append(test_loss)\n",
        "    test_accuracy_history.append(test_accuracy)\n",
        "\n",
        "    if test_accuracy > best_test_accuracy:\n",
        "        # Save the model with the best weights\n",
        "        best_test_accuracy = test_accuracy\n",
        "        torch.save(net.state_dict(), best_model_path)\n",
        "        print(f\"Best model saved to {best_model_path}\")\n",
        "\n",
        "    print(f'Epoch [{epoch + 1}/{num_epochs}] - Train Loss: {train_loss:.4f} - Train Acc: {train_accuracy:.2f}% - Val Loss: {test_loss:.4f} - Val Acc: {test_accuracy:.2f}%')\n",
        "\n",
        "#torch.save(net.state_dict(), 'my_wbc_10.pth')"
      ],
      "metadata": {
        "colab": {
          "base_uri": "https://localhost:8080/"
        },
        "id": "l_WSgfNZzTyb",
        "outputId": "e8bbf39f-9675-415f-e4f4-79d748342247"
      },
      "execution_count": null,
      "outputs": [
        {
          "output_type": "stream",
          "name": "stdout",
          "text": [
            "started epoch:  0\n",
            "Best model saved to best_my_wbc_100_model.pth\n",
            "Epoch [1/20] - Train Loss: 0.8024 - Train Acc: 69.81% - Val Loss: 0.5689 - Val Acc: 82.41%\n",
            "started epoch:  1\n",
            "Epoch [2/20] - Train Loss: 0.5190 - Train Acc: 81.87% - Val Loss: 0.5512 - Val Acc: 81.94%\n",
            "started epoch:  2\n",
            "Best model saved to best_my_wbc_100_model.pth\n",
            "Epoch [3/20] - Train Loss: 0.3975 - Train Acc: 86.33% - Val Loss: 0.4715 - Val Acc: 85.82%\n",
            "started epoch:  3\n",
            "Best model saved to best_my_wbc_100_model.pth\n",
            "Epoch [4/20] - Train Loss: 0.3343 - Train Acc: 88.69% - Val Loss: 0.3621 - Val Acc: 89.70%\n",
            "started epoch:  4\n",
            "Epoch [5/20] - Train Loss: 0.3069 - Train Acc: 90.06% - Val Loss: 0.3005 - Val Acc: 89.70%\n",
            "started epoch:  5\n",
            "Best model saved to best_my_wbc_100_model.pth\n",
            "Epoch [6/20] - Train Loss: 0.2678 - Train Acc: 91.54% - Val Loss: 0.3052 - Val Acc: 91.55%\n",
            "started epoch:  6\n",
            "Epoch [7/20] - Train Loss: 0.2528 - Train Acc: 92.04% - Val Loss: 0.3776 - Val Acc: 89.24%\n",
            "started epoch:  7\n",
            "Epoch [8/20] - Train Loss: 0.2438 - Train Acc: 92.10% - Val Loss: 0.3836 - Val Acc: 89.12%\n",
            "started epoch:  8\n",
            "Best model saved to best_my_wbc_100_model.pth\n",
            "Epoch [9/20] - Train Loss: 0.2202 - Train Acc: 92.92% - Val Loss: 0.2328 - Val Acc: 93.46%\n",
            "started epoch:  9\n",
            "Epoch [10/20] - Train Loss: 0.2085 - Train Acc: 93.39% - Val Loss: 0.3426 - Val Acc: 91.96%\n",
            "started epoch:  10\n",
            "Epoch [11/20] - Train Loss: 0.2001 - Train Acc: 93.82% - Val Loss: 0.2862 - Val Acc: 92.82%\n",
            "started epoch:  11\n",
            "Best model saved to best_my_wbc_100_model.pth\n",
            "Epoch [12/20] - Train Loss: 0.1921 - Train Acc: 93.68% - Val Loss: 0.1539 - Val Acc: 95.54%\n",
            "started epoch:  12\n",
            "Epoch [13/20] - Train Loss: 0.1889 - Train Acc: 93.78% - Val Loss: 0.1696 - Val Acc: 95.02%\n",
            "started epoch:  13\n",
            "Epoch [14/20] - Train Loss: 0.1784 - Train Acc: 94.40% - Val Loss: 0.1776 - Val Acc: 94.68%\n",
            "started epoch:  14\n",
            "Epoch [15/20] - Train Loss: 0.1717 - Train Acc: 94.48% - Val Loss: 0.1595 - Val Acc: 95.54%\n",
            "started epoch:  15\n",
            "Epoch [16/20] - Train Loss: 0.1649 - Train Acc: 94.72% - Val Loss: 0.3670 - Val Acc: 92.94%\n",
            "started epoch:  16\n",
            "Epoch [17/20] - Train Loss: 0.1618 - Train Acc: 94.70% - Val Loss: 0.2589 - Val Acc: 91.38%\n",
            "started epoch:  17\n",
            "Best model saved to best_my_wbc_100_model.pth\n",
            "Epoch [18/20] - Train Loss: 0.1569 - Train Acc: 94.78% - Val Loss: 0.1436 - Val Acc: 95.72%\n",
            "started epoch:  18\n",
            "Epoch [19/20] - Train Loss: 0.1548 - Train Acc: 94.94% - Val Loss: 0.1833 - Val Acc: 94.79%\n",
            "started epoch:  19\n",
            "Epoch [20/20] - Train Loss: 0.1488 - Train Acc: 95.25% - Val Loss: 0.2360 - Val Acc: 92.19%\n"
          ]
        }
      ]
    },
    {
      "cell_type": "code",
      "source": [
        "print(train_loss_history)\n",
        "print(test_loss_history)\n",
        "print(train_accuracy_history)\n",
        "print(test_accuracy_history)"
      ],
      "metadata": {
        "colab": {
          "base_uri": "https://localhost:8080/"
        },
        "id": "bd4mvDMvN5U8",
        "outputId": "6b22d2fb-77ec-477b-d79e-257515464cc9"
      },
      "execution_count": null,
      "outputs": [
        {
          "output_type": "stream",
          "name": "stdout",
          "text": [
            "[0.8024460537630937, 0.5190463986711235, 0.39749010891188136, 0.33426154944027386, 0.30687522387552607, 0.26775261907825454, 0.252778708134059, 0.24375363641627593, 0.22022649990260407, 0.2084967087104045, 0.20013334900279578, 0.19212092856950821, 0.18891070848720243, 0.17844999699050632, 0.17168517940699202, 0.16490781437652727, 0.16181293912619807, 0.1568815774358773, 0.154773919985612, 0.14876788549912087]\n",
            "[0.5688917838442312, 0.5512198365489624, 0.4714619406842286, 0.36207910893911804, 0.30046985411249977, 0.30516774525730633, 0.37761510900588324, 0.38364631840547897, 0.23279901565574282, 0.34255835709969956, 0.28616440964803286, 0.1538816620309094, 0.1696135787366344, 0.1776186481699066, 0.15952112314756858, 0.36702741024616037, 0.25888388765243114, 0.14359097359807424, 0.1833010407324225, 0.23595183858176622]\n",
            "[69.81375820863387, 81.87103025083432, 86.32791473786199, 88.68554203897082, 90.06351598665088, 91.53837872752717, 92.04435353644095, 92.0981806437722, 92.91635267520724, 93.39003121972225, 93.82064807837227, 93.68069759931102, 93.77758639250726, 94.40198083754979, 94.47733878781355, 94.72494348153731, 94.7034126386048, 94.77877058886855, 94.9402519108623, 95.25244913338358]\n",
            "[82.4074074074074, 81.94444444444444, 85.82175925925925, 89.69907407407408, 89.69907407407408, 91.55092592592592, 89.23611111111111, 89.12037037037037, 93.46064814814815, 91.95601851851852, 92.82407407407408, 95.54398148148148, 95.02314814814815, 94.67592592592592, 95.54398148148148, 92.93981481481481, 91.37731481481481, 95.7175925925926, 94.79166666666666, 92.1875]\n"
          ]
        }
      ]
    },
    {
      "cell_type": "code",
      "source": [
        "# Save and display training and testing statistics\n",
        "plt.figure(figsize=(12, 4))\n",
        "plt.subplot(1, 2, 1)\n",
        "plt.plot(range(num_epochs), train_loss_history, label='Training Loss')\n",
        "plt.plot(range(num_epochs), test_loss_history, label='Validation Loss')\n",
        "plt.xlabel('Epochs')\n",
        "plt.ylabel('Loss')\n",
        "plt.legend()\n",
        "\n",
        "plt.subplot(1, 2, 2)\n",
        "plt.plot(range(num_epochs), train_accuracy_history, label='Training Accuracy')\n",
        "plt.plot(range(num_epochs), test_accuracy_history, label='Validation Accuracy')\n",
        "plt.xlabel('Epochs')\n",
        "plt.ylabel('Accuracy (%)')\n",
        "plt.legend()\n",
        "\n",
        "plt.tight_layout()\n",
        "plt.show()"
      ],
      "metadata": {
        "colab": {
          "base_uri": "https://localhost:8080/",
          "height": 236
        },
        "id": "iA2O5q1YyvfK",
        "outputId": "4495ba28-3c6e-4209-90b3-b24368ebae2e"
      },
      "execution_count": null,
      "outputs": [
        {
          "output_type": "display_data",
          "data": {
            "text/plain": [
              "<Figure size 1200x400 with 2 Axes>"
            ],
            "image/png": "[encoded data removed]"
          },
          "metadata": {}
        }
      ]
    },
    {
      "cell_type": "code",
      "source": [
        "#checking wbc across classes\n",
        "state_dict_a = torch.load('/content/sample_data/my_best_my_wbc_100_model.pth')\n",
        "\n",
        "#state_dict_a = torch.load('model_a.pth')\n",
        "#state_dict_b = torch.load('model_b.pth')\n",
        "device = torch.device(\"cuda:0\" if torch.cuda.is_available() else \"cpu\")\n",
        "\n",
        "# Create model instances and load the state dictionaries\n",
        "model_a = ResNet().to(device)\n",
        "\n",
        "# Load the state dictionaries into the models\n",
        "model_a.load_state_dict(state_dict_a)\n",
        "\n",
        "# Make sure both models are in evaluation mode\n",
        "model_a.eval()\n"
      ],
      "metadata": {
        "id": "0aNW3S9sOTsx",
        "colab": {
          "base_uri": "https://localhost:8080/"
        },
        "outputId": "9917241b-c15b-437a-f04c-f2522e0f2a8a"
      },
      "execution_count": null,
      "outputs": [
        {
          "output_type": "execute_result",
          "data": {
            "text/plain": [
              "ResNet(\n",
              "  (conv1): Conv2d(3, 64, kernel_size=(7, 7), stride=(2, 2), padding=(3, 3), bias=False)\n",
              "  (bn1): BatchNorm2d(64, eps=1e-05, momentum=0.1, affine=True, track_running_stats=True)\n",
              "  (relu): ReLU(inplace=True)\n",
              "  (maxpool): MaxPool2d(kernel_size=3, stride=2, padding=1, dilation=1, ceil_mode=False)\n",
              "  (layer1): Sequential(\n",
              "    (0): BasicResidualBlock(\n",
              "      (conv1): Conv2d(64, 64, kernel_size=(3, 3), stride=(1, 1), padding=(1, 1), bias=False)\n",
              "      (bn1): BatchNorm2d(64, eps=1e-05, momentum=0.1, affine=True, track_running_stats=True)\n",
              "      (relu): ReLU(inplace=True)\n",
              "      (conv2): Conv2d(64, 64, kernel_size=(3, 3), stride=(1, 1), padding=(1, 1), bias=False)\n",
              "      (bn2): BatchNorm2d(64, eps=1e-05, momentum=0.1, affine=True, track_running_stats=True)\n",
              "      (shortcut): Sequential()\n",
              "    )\n",
              "    (1): BasicResidualBlock(\n",
              "      (conv1): Conv2d(64, 64, kernel_size=(3, 3), stride=(1, 1), padding=(1, 1), bias=False)\n",
              "      (bn1): BatchNorm2d(64, eps=1e-05, momentum=0.1, affine=True, track_running_stats=True)\n",
              "      (relu): ReLU(inplace=True)\n",
              "      (conv2): Conv2d(64, 64, kernel_size=(3, 3), stride=(1, 1), padding=(1, 1), bias=False)\n",
              "      (bn2): BatchNorm2d(64, eps=1e-05, momentum=0.1, affine=True, track_running_stats=True)\n",
              "      (shortcut): Sequential()\n",
              "    )\n",
              "  )\n",
              "  (layer2): Sequential(\n",
              "    (0): BasicResidualBlock(\n",
              "      (conv1): Conv2d(64, 128, kernel_size=(3, 3), stride=(2, 2), padding=(1, 1), bias=False)\n",
              "      (bn1): BatchNorm2d(128, eps=1e-05, momentum=0.1, affine=True, track_running_stats=True)\n",
              "      (relu): ReLU(inplace=True)\n",
              "      (conv2): Conv2d(128, 128, kernel_size=(3, 3), stride=(1, 1), padding=(1, 1), bias=False)\n",
              "      (bn2): BatchNorm2d(128, eps=1e-05, momentum=0.1, affine=True, track_running_stats=True)\n",
              "      (shortcut): Sequential(\n",
              "        (0): Conv2d(64, 128, kernel_size=(1, 1), stride=(2, 2), bias=False)\n",
              "        (1): BatchNorm2d(128, eps=1e-05, momentum=0.1, affine=True, track_running_stats=True)\n",
              "      )\n",
              "    )\n",
              "    (1): BasicResidualBlock(\n",
              "      (conv1): Conv2d(128, 128, kernel_size=(3, 3), stride=(1, 1), padding=(1, 1), bias=False)\n",
              "      (bn1): BatchNorm2d(128, eps=1e-05, momentum=0.1, affine=True, track_running_stats=True)\n",
              "      (relu): ReLU(inplace=True)\n",
              "      (conv2): Conv2d(128, 128, kernel_size=(3, 3), stride=(1, 1), padding=(1, 1), bias=False)\n",
              "      (bn2): BatchNorm2d(128, eps=1e-05, momentum=0.1, affine=True, track_running_stats=True)\n",
              "      (shortcut): Sequential()\n",
              "    )\n",
              "  )\n",
              "  (avgpool): AdaptiveAvgPool2d(output_size=(1, 1))\n",
              "  (fc): Linear(in_features=128, out_features=5, bias=True)\n",
              ")"
            ]
          },
          "metadata": {},
          "execution_count": 12
        }
      ]
    },
    {
      "cell_type": "code",
      "source": [
        "num_classes = 5\n",
        "model_a.eval()\n",
        "class_correct = [0] * num_classes\n",
        "class_total = [0] * num_classes\n",
        "with torch.no_grad():\n",
        "    for inputs, labels in val_loader:\n",
        "        #print(\"in val\")\n",
        "        inputs, labels = inputs.to(device), labels.to(device)\n",
        "        outputs = model_a(inputs)\n",
        "        _, predicted = torch.max(outputs, 1)\n",
        "        c = (predicted == labels).squeeze()\n",
        "        for i in range(len(labels)):\n",
        "            label = labels[i]\n",
        "            class_correct[label] += c[i].item()\n",
        "            class_total[label] += 1\n",
        "\n",
        "for i in range(num_classes):\n",
        "    print(f'Accuracy of class {train_data.classes[i]}: {100 * class_correct[i] / class_total[i]:.2f}%')"
      ],
      "metadata": {
        "colab": {
          "base_uri": "https://localhost:8080/"
        },
        "id": "-wJbvd0oE_w-",
        "outputId": "266bd490-eba2-49a3-b138-4ade976ae601"
      },
      "execution_count": null,
      "outputs": [
        {
          "output_type": "stream",
          "name": "stdout",
          "text": [
            "Accuracy of class Basophil: 91.67%\n",
            "Accuracy of class Eosinophil: 92.06%\n",
            "Accuracy of class Lymphocyte: 91.26%\n",
            "Accuracy of class Monocyte: 92.63%\n",
            "Accuracy of class Neutrophil: 98.30%\n"
          ]
        }
      ]
    },
    {
      "cell_type": "code",
      "source": [],
      "metadata": {
        "id": "n5uYIjYuIkcN"
      },
      "execution_count": null,
      "outputs": []
    },
    {
      "cell_type": "markdown",
      "source": [
        "This notebook contains the code and output for training and validation of WBC with masks. It uses the same architecture as the plain WBC, but the dataset that this was trained on would contain masked images too.\n",
        "\n",
        "**This model has been combined with pRCC and cam-16 to created a weighted ensemble model. So for validation of the improved combined model, kindly refer to the notebooks that are titled\n",
        "'WBC_1_ensemble_with_masks_and_pretraining.ipnynb, 'WBC_10_ensemble_with_masks_and_pretraining.ipnynb', 'WBC_50_ensemble_with_masks_and_pretraining.ipnynb', 'WBC_100_ensemble_with_masks_and_pretraining.ipnynb'**"
      ],
      "metadata": {
        "id": "IYsin2XV-FUP"
      }
    }
  ]
}