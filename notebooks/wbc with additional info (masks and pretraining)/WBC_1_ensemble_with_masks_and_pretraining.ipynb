{
  "nbformat": 4,
  "nbformat_minor": 0,
  "metadata": {
    "colab": {
      "provenance": [],
      "gpuType": "T4"
    },
    "kernelspec": {
      "name": "python3",
      "display_name": "Python 3"
    },
    "language_info": {
      "name": "python"
    },
    "accelerator": "GPU"
  },
  "cells": [
    {
      "cell_type": "markdown",
      "source": [
        "**This notebooks contains the weighted ensemble model where I train and validate the model in which I have combined pRCC, cam-16 and WBC (trained with masks)\n",
        "At the end, I have also added code that would load the model and do validation, which can be used by the evaluators**"
      ],
      "metadata": {
        "id": "fP5eBrl_Xq9_"
      }
    },
    {
      "cell_type": "code",
      "execution_count": 7,
      "metadata": {
        "colab": {
          "base_uri": "https://localhost:8080/"
        },
        "id": "bM4PVBjgSSSc",
        "outputId": "aa35f918-491f-4319-b319-ce89b4cee7ca"
      },
      "outputs": [
        {
          "output_type": "stream",
          "name": "stdout",
          "text": [
            "Mounted at /content/drive\n"
          ]
        }
      ],
      "source": [
        "from google.colab import drive\n",
        "drive.mount('/content/drive', force_remount = True)"
      ]
    },
    {
      "cell_type": "code",
      "source": [
        "import torch\n",
        "import torch.nn as nn\n",
        "import torch.optim as optim\n",
        "from torchvision import transforms, datasets\n",
        "from torch.utils.data import DataLoader, Dataset\n",
        "from PIL import Image\n",
        "import os"
      ],
      "metadata": {
        "id": "-JCV5k4KUUbm"
      },
      "execution_count": null,
      "outputs": []
    },
    {
      "cell_type": "markdown",
      "source": [
        "**Defining the class that was used for pRCC**"
      ],
      "metadata": {
        "id": "YhbhNE6mbSEU"
      }
    },
    {
      "cell_type": "code",
      "source": [
        "#pRCC\n",
        "\n",
        "class Autoencoder(nn.Module):\n",
        "    def __init__(self):\n",
        "        super(Autoencoder, self).__init__()\n",
        "        self.encoder = nn.Sequential(\n",
        "            nn.Conv2d(3, 128, kernel_size=3, padding=1),\n",
        "            nn.ReLU(),\n",
        "            nn.MaxPool2d(2),\n",
        "            nn.Conv2d(128, 64, kernel_size=3, padding=1),\n",
        "            nn.ReLU(),\n",
        "            nn.MaxPool2d(2)\n",
        "        )\n",
        "        self.decoder = nn.Sequential(\n",
        "            nn.ConvTranspose2d(64, 128, kernel_size=2, stride=2),\n",
        "            nn.ReLU(),\n",
        "            nn.ConvTranspose2d(128, 3, kernel_size=2, stride=2),\n",
        "            nn.Sigmoid()\n",
        "        )\n",
        "\n",
        "    def forward(self, x):\n",
        "        x = self.encoder(x)\n",
        "        x = self.decoder(x)\n",
        "        return x"
      ],
      "metadata": {
        "id": "wwT6FmYZUFEw"
      },
      "execution_count": null,
      "outputs": []
    },
    {
      "cell_type": "code",
      "source": [
        "import torch\n",
        "\n",
        "pRCC = Autoencoder()\n",
        "pRCC.load_state_dict(torch.load('/content/drive/My Drive/my_pRCC_autoencoder_128_64_20_epochs.pth'))\n",
        "pRCC.eval()\n",
        "\n"
      ],
      "metadata": {
        "colab": {
          "base_uri": "https://localhost:8080/"
        },
        "id": "5INf-NzaS2N7",
        "outputId": "21899146-e608-46b7-81b8-ee3c5d624f95"
      },
      "execution_count": null,
      "outputs": [
        {
          "output_type": "execute_result",
          "data": {
            "text/plain": [
              "Autoencoder(\n",
              "  (encoder): Sequential(\n",
              "    (0): Conv2d(3, 128, kernel_size=(3, 3), stride=(1, 1), padding=(1, 1))\n",
              "    (1): ReLU()\n",
              "    (2): MaxPool2d(kernel_size=2, stride=2, padding=0, dilation=1, ceil_mode=False)\n",
              "    (3): Conv2d(128, 64, kernel_size=(3, 3), stride=(1, 1), padding=(1, 1))\n",
              "    (4): ReLU()\n",
              "    (5): MaxPool2d(kernel_size=2, stride=2, padding=0, dilation=1, ceil_mode=False)\n",
              "  )\n",
              "  (decoder): Sequential(\n",
              "    (0): ConvTranspose2d(64, 128, kernel_size=(2, 2), stride=(2, 2))\n",
              "    (1): ReLU()\n",
              "    (2): ConvTranspose2d(128, 3, kernel_size=(2, 2), stride=(2, 2))\n",
              "    (3): Sigmoid()\n",
              "  )\n",
              ")"
            ]
          },
          "metadata": {},
          "execution_count": 4
        }
      ]
    },
    {
      "cell_type": "markdown",
      "source": [
        "**Defining the class that was used for cam-16**"
      ],
      "metadata": {
        "id": "UW8_YehQbiJU"
      }
    },
    {
      "cell_type": "code",
      "source": [
        "# Create a CNN model\n",
        "class CNNModel(nn.Module):\n",
        "\n",
        "    def __init__(self):\n",
        "        super(CNNModel, self).__init__()\n",
        "        # Convolutional layers\n",
        "        self.conv1 = nn.Conv2d(3, 32, kernel_size=3, stride=1, padding=1)\n",
        "        self.conv2 = nn.Conv2d(32, 64, kernel_size=3, stride=1, padding=1)\n",
        "        self.conv3 = nn.Conv2d(64, 128, kernel_size=3, stride=1, padding=1)\n",
        "        self.pool = nn.MaxPool2d(kernel_size=2, stride=2)\n",
        "\n",
        "\n",
        "        self.fc1 = nn.Linear(128 * 48 * 48, 128)\n",
        "        self.fc2 = nn.Linear(128, 2)\n",
        "\n",
        "    def forward(self, x):\n",
        "        x = self.pool(torch.relu(self.conv1(x)))\n",
        "        x = self.pool(torch.relu(self.conv2(x)))\n",
        "        x = self.pool(torch.relu(self.conv3(x)))\n",
        "\n",
        "\n",
        "        x = x.view(x.size(0), -1)\n",
        "\n",
        "        x = torch.relu(self.fc1(x))\n",
        "        x = self.fc2(x)\n",
        "        return x"
      ],
      "metadata": {
        "id": "fvm3hXDyVgF4"
      },
      "execution_count": null,
      "outputs": []
    },
    {
      "cell_type": "code",
      "source": [
        "cam_16 = CNNModel()\n",
        "cam_16.load_state_dict(torch.load('/content/drive/My Drive/my_cam16_model.pth'))\n",
        "cam_16.eval()"
      ],
      "metadata": {
        "colab": {
          "base_uri": "https://localhost:8080/"
        },
        "id": "3pTuxMmyVg10",
        "outputId": "f2344f82-3aa2-42b0-efaa-07511b290deb"
      },
      "execution_count": null,
      "outputs": [
        {
          "output_type": "execute_result",
          "data": {
            "text/plain": [
              "CNNModel(\n",
              "  (conv1): Conv2d(3, 32, kernel_size=(3, 3), stride=(1, 1), padding=(1, 1))\n",
              "  (conv2): Conv2d(32, 64, kernel_size=(3, 3), stride=(1, 1), padding=(1, 1))\n",
              "  (conv3): Conv2d(64, 128, kernel_size=(3, 3), stride=(1, 1), padding=(1, 1))\n",
              "  (pool): MaxPool2d(kernel_size=2, stride=2, padding=0, dilation=1, ceil_mode=False)\n",
              "  (fc1): Linear(in_features=294912, out_features=128, bias=True)\n",
              "  (fc2): Linear(in_features=128, out_features=2, bias=True)\n",
              ")"
            ]
          },
          "metadata": {},
          "execution_count": 6
        }
      ]
    },
    {
      "cell_type": "code",
      "source": [],
      "metadata": {
        "id": "22Ar569rV6vM"
      },
      "execution_count": null,
      "outputs": []
    },
    {
      "cell_type": "markdown",
      "source": [
        "**Defining the WBC class**"
      ],
      "metadata": {
        "id": "5te-SksMcC3h"
      }
    },
    {
      "cell_type": "code",
      "source": [
        "import torch\n",
        "import torch.nn as nn\n",
        "import torch.nn.functional as F\n",
        "\n",
        "class BasicResidualBlock(nn.Module):\n",
        "    def __init__(self, in_channels, out_channels, stride=1):\n",
        "        super(BasicResidualBlock, self).__init__()\n",
        "        self.conv1 = nn.Conv2d(in_channels, out_channels, kernel_size=3, stride=stride, padding=1, bias=False)\n",
        "        self.bn1 = nn.BatchNorm2d(out_channels)\n",
        "        self.relu = nn.ReLU(inplace=True)\n",
        "        self.conv2 = nn.Conv2d(out_channels, out_channels, kernel_size=3, padding=1, bias=False)\n",
        "        self.bn2 = nn.BatchNorm2d(out_channels)\n",
        "        self.shortcut = nn.Sequential()\n",
        "\n",
        "        if stride != 1 or in_channels != out_channels:\n",
        "            self.shortcut = nn.Sequential(\n",
        "                nn.Conv2d(in_channels, out_channels, kernel_size=1, stride=stride, bias=False),\n",
        "                nn.BatchNorm2d(out_channels)\n",
        "            )\n",
        "\n",
        "    def forward(self, x):\n",
        "        out = self.conv1(x)\n",
        "        out = self.bn1(out)\n",
        "        out = self.relu(out)\n",
        "        out = self.conv2(out)\n",
        "        out = self.bn2(out)\n",
        "        out += self.shortcut(x)\n",
        "        out = self.relu(out)\n",
        "        return out\n",
        "\n",
        "class ResNet(nn.Module):\n",
        "    def __init__(self, num_classes=5):\n",
        "        super(ResNet, self).__init__()\n",
        "        self.in_channels = 64\n",
        "        self.conv1 = nn.Conv2d(3, 64, kernel_size=7, stride=2, padding=3, bias=False)\n",
        "        self.bn1 = nn.BatchNorm2d(64)\n",
        "        self.relu = nn.ReLU(inplace=True)\n",
        "        self.maxpool = nn.MaxPool2d(kernel_size=3, stride=2, padding=1)\n",
        "\n",
        "        self.layer1 = self._make_layer(BasicResidualBlock, 64, 2)\n",
        "        self.layer2 = self._make_layer(BasicResidualBlock, 128, 2, stride=2)\n",
        "\n",
        "        self.avgpool = nn.AdaptiveAvgPool2d((1, 1))\n",
        "        self.fc = nn.Linear(128, 5)\n",
        "\n",
        "    def _make_layer(self, block, out_channels, num_blocks, stride=1):\n",
        "        layers = []\n",
        "        layers.append(block(self.in_channels, out_channels, stride))\n",
        "        self.in_channels = out_channels\n",
        "        for _ in range(1, num_blocks):\n",
        "            layers.append(block(out_channels, out_channels))\n",
        "        return nn.Sequential(*layers)\n",
        "\n",
        "    def forward(self, x):\n",
        "        out = self.conv1(x)\n",
        "        out = self.bn1(out)\n",
        "        out = self.relu(out)\n",
        "        out = self.maxpool(out)\n",
        "        out = self.layer1(out)\n",
        "        out = self.layer2(out)\n",
        "        out = self.avgpool(out)\n",
        "        out = out.view(out.size(0), -1)\n",
        "        out = self.fc(out)\n",
        "        return out"
      ],
      "metadata": {
        "id": "0ROUip-0WUCi"
      },
      "execution_count": null,
      "outputs": []
    },
    {
      "cell_type": "code",
      "source": [],
      "metadata": {
        "id": "IISxMmJKFG6W"
      },
      "execution_count": null,
      "outputs": []
    },
    {
      "cell_type": "code",
      "source": [
        "!pip install torchinfo\n"
      ],
      "metadata": {
        "colab": {
          "base_uri": "https://localhost:8080/"
        },
        "id": "hTh2GCz5FfIc",
        "outputId": "9f5ccbe6-eda1-49a6-98a7-1ec18d7a2c26"
      },
      "execution_count": null,
      "outputs": [
        {
          "output_type": "stream",
          "name": "stdout",
          "text": [
            "Collecting torchinfo\n",
            "  Downloading torchinfo-1.8.0-py3-none-any.whl (23 kB)\n",
            "Installing collected packages: torchinfo\n",
            "Successfully installed torchinfo-1.8.0\n"
          ]
        }
      ]
    },
    {
      "cell_type": "code",
      "source": [
        "from torchinfo import summary\n",
        "\n",
        "wbc = ResNet()\n",
        "summary(wbc, input_size=(3, 575, 575), batch_dim=0,\n",
        "            col_names=[\"input_size\", \"output_size\", \"num_params\", \"kernel_size\", \"mult_adds\"], verbose=1)"
      ],
      "metadata": {
        "colab": {
          "base_uri": "https://localhost:8080/"
        },
        "id": "S7J5AsehFJNB",
        "outputId": "b3ee29bb-410f-4d30-82ab-b1a420e0ecdc"
      },
      "execution_count": null,
      "outputs": [
        {
          "output_type": "stream",
          "name": "stdout",
          "text": [
            "=====================================================================================================================================================================\n",
            "Layer (type:depth-idx)                   Input Shape               Output Shape              Param #                   Kernel Shape              Mult-Adds\n",
            "=====================================================================================================================================================================\n",
            "ResNet                                   [1, 3, 575, 575]          [1, 5]                    --                        --                        --\n",
            "├─Conv2d: 1-1                            [1, 3, 575, 575]          [1, 64, 288, 288]         9,408                     [7, 7]                    780,337,152\n",
            "├─BatchNorm2d: 1-2                       [1, 64, 288, 288]         [1, 64, 288, 288]         128                       --                        128\n",
            "├─ReLU: 1-3                              [1, 64, 288, 288]         [1, 64, 288, 288]         --                        --                        --\n",
            "├─MaxPool2d: 1-4                         [1, 64, 288, 288]         [1, 64, 144, 144]         --                        3                         --\n",
            "├─Sequential: 1-5                        [1, 64, 144, 144]         [1, 64, 144, 144]         --                        --                        --\n",
            "│    └─BasicResidualBlock: 2-1           [1, 64, 144, 144]         [1, 64, 144, 144]         --                        --                        --\n",
            "│    │    └─Conv2d: 3-1                  [1, 64, 144, 144]         [1, 64, 144, 144]         36,864                    [3, 3]                    764,411,904\n",
            "│    │    └─BatchNorm2d: 3-2             [1, 64, 144, 144]         [1, 64, 144, 144]         128                       --                        128\n",
            "│    │    └─ReLU: 3-3                    [1, 64, 144, 144]         [1, 64, 144, 144]         --                        --                        --\n",
            "│    │    └─Conv2d: 3-4                  [1, 64, 144, 144]         [1, 64, 144, 144]         36,864                    [3, 3]                    764,411,904\n",
            "│    │    └─BatchNorm2d: 3-5             [1, 64, 144, 144]         [1, 64, 144, 144]         128                       --                        128\n",
            "│    │    └─Sequential: 3-6              [1, 64, 144, 144]         [1, 64, 144, 144]         --                        --                        --\n",
            "│    │    └─ReLU: 3-7                    [1, 64, 144, 144]         [1, 64, 144, 144]         --                        --                        --\n",
            "│    └─BasicResidualBlock: 2-2           [1, 64, 144, 144]         [1, 64, 144, 144]         --                        --                        --\n",
            "│    │    └─Conv2d: 3-8                  [1, 64, 144, 144]         [1, 64, 144, 144]         36,864                    [3, 3]                    764,411,904\n",
            "│    │    └─BatchNorm2d: 3-9             [1, 64, 144, 144]         [1, 64, 144, 144]         128                       --                        128\n",
            "│    │    └─ReLU: 3-10                   [1, 64, 144, 144]         [1, 64, 144, 144]         --                        --                        --\n",
            "│    │    └─Conv2d: 3-11                 [1, 64, 144, 144]         [1, 64, 144, 144]         36,864                    [3, 3]                    764,411,904\n",
            "│    │    └─BatchNorm2d: 3-12            [1, 64, 144, 144]         [1, 64, 144, 144]         128                       --                        128\n",
            "│    │    └─Sequential: 3-13             [1, 64, 144, 144]         [1, 64, 144, 144]         --                        --                        --\n",
            "│    │    └─ReLU: 3-14                   [1, 64, 144, 144]         [1, 64, 144, 144]         --                        --                        --\n",
            "├─Sequential: 1-6                        [1, 64, 144, 144]         [1, 128, 72, 72]          --                        --                        --\n",
            "│    └─BasicResidualBlock: 2-3           [1, 64, 144, 144]         [1, 128, 72, 72]          --                        --                        --\n",
            "│    │    └─Conv2d: 3-15                 [1, 64, 144, 144]         [1, 128, 72, 72]          73,728                    [3, 3]                    382,205,952\n",
            "│    │    └─BatchNorm2d: 3-16            [1, 128, 72, 72]          [1, 128, 72, 72]          256                       --                        256\n",
            "│    │    └─ReLU: 3-17                   [1, 128, 72, 72]          [1, 128, 72, 72]          --                        --                        --\n",
            "│    │    └─Conv2d: 3-18                 [1, 128, 72, 72]          [1, 128, 72, 72]          147,456                   [3, 3]                    764,411,904\n",
            "│    │    └─BatchNorm2d: 3-19            [1, 128, 72, 72]          [1, 128, 72, 72]          256                       --                        256\n",
            "│    │    └─Sequential: 3-20             [1, 64, 144, 144]         [1, 128, 72, 72]          8,448                     --                        42,467,584\n",
            "│    │    └─ReLU: 3-21                   [1, 128, 72, 72]          [1, 128, 72, 72]          --                        --                        --\n",
            "│    └─BasicResidualBlock: 2-4           [1, 128, 72, 72]          [1, 128, 72, 72]          --                        --                        --\n",
            "│    │    └─Conv2d: 3-22                 [1, 128, 72, 72]          [1, 128, 72, 72]          147,456                   [3, 3]                    764,411,904\n",
            "│    │    └─BatchNorm2d: 3-23            [1, 128, 72, 72]          [1, 128, 72, 72]          256                       --                        256\n",
            "│    │    └─ReLU: 3-24                   [1, 128, 72, 72]          [1, 128, 72, 72]          --                        --                        --\n",
            "│    │    └─Conv2d: 3-25                 [1, 128, 72, 72]          [1, 128, 72, 72]          147,456                   [3, 3]                    764,411,904\n",
            "│    │    └─BatchNorm2d: 3-26            [1, 128, 72, 72]          [1, 128, 72, 72]          256                       --                        256\n",
            "│    │    └─Sequential: 3-27             [1, 128, 72, 72]          [1, 128, 72, 72]          --                        --                        --\n",
            "│    │    └─ReLU: 3-28                   [1, 128, 72, 72]          [1, 128, 72, 72]          --                        --                        --\n",
            "├─AdaptiveAvgPool2d: 1-7                 [1, 128, 72, 72]          [1, 128, 1, 1]            --                        --                        --\n",
            "├─Linear: 1-8                            [1, 128]                  [1, 5]                    645                       --                        645\n",
            "=====================================================================================================================================================================\n",
            "Total params: 683,717\n",
            "Trainable params: 683,717\n",
            "Non-trainable params: 0\n",
            "Total mult-adds (G): 6.56\n",
            "=====================================================================================================================================================================\n",
            "Input size (MB): 3.97\n",
            "Forward/backward pass size (MB): 222.95\n",
            "Params size (MB): 2.73\n",
            "Estimated Total Size (MB): 229.66\n",
            "=====================================================================================================================================================================\n"
          ]
        },
        {
          "output_type": "execute_result",
          "data": {
            "text/plain": [
              "=====================================================================================================================================================================\n",
              "Layer (type:depth-idx)                   Input Shape               Output Shape              Param #                   Kernel Shape              Mult-Adds\n",
              "=====================================================================================================================================================================\n",
              "ResNet                                   [1, 3, 575, 575]          [1, 5]                    --                        --                        --\n",
              "├─Conv2d: 1-1                            [1, 3, 575, 575]          [1, 64, 288, 288]         9,408                     [7, 7]                    780,337,152\n",
              "├─BatchNorm2d: 1-2                       [1, 64, 288, 288]         [1, 64, 288, 288]         128                       --                        128\n",
              "├─ReLU: 1-3                              [1, 64, 288, 288]         [1, 64, 288, 288]         --                        --                        --\n",
              "├─MaxPool2d: 1-4                         [1, 64, 288, 288]         [1, 64, 144, 144]         --                        3                         --\n",
              "├─Sequential: 1-5                        [1, 64, 144, 144]         [1, 64, 144, 144]         --                        --                        --\n",
              "│    └─BasicResidualBlock: 2-1           [1, 64, 144, 144]         [1, 64, 144, 144]         --                        --                        --\n",
              "│    │    └─Conv2d: 3-1                  [1, 64, 144, 144]         [1, 64, 144, 144]         36,864                    [3, 3]                    764,411,904\n",
              "│    │    └─BatchNorm2d: 3-2             [1, 64, 144, 144]         [1, 64, 144, 144]         128                       --                        128\n",
              "│    │    └─ReLU: 3-3                    [1, 64, 144, 144]         [1, 64, 144, 144]         --                        --                        --\n",
              "│    │    └─Conv2d: 3-4                  [1, 64, 144, 144]         [1, 64, 144, 144]         36,864                    [3, 3]                    764,411,904\n",
              "│    │    └─BatchNorm2d: 3-5             [1, 64, 144, 144]         [1, 64, 144, 144]         128                       --                        128\n",
              "│    │    └─Sequential: 3-6              [1, 64, 144, 144]         [1, 64, 144, 144]         --                        --                        --\n",
              "│    │    └─ReLU: 3-7                    [1, 64, 144, 144]         [1, 64, 144, 144]         --                        --                        --\n",
              "│    └─BasicResidualBlock: 2-2           [1, 64, 144, 144]         [1, 64, 144, 144]         --                        --                        --\n",
              "│    │    └─Conv2d: 3-8                  [1, 64, 144, 144]         [1, 64, 144, 144]         36,864                    [3, 3]                    764,411,904\n",
              "│    │    └─BatchNorm2d: 3-9             [1, 64, 144, 144]         [1, 64, 144, 144]         128                       --                        128\n",
              "│    │    └─ReLU: 3-10                   [1, 64, 144, 144]         [1, 64, 144, 144]         --                        --                        --\n",
              "│    │    └─Conv2d: 3-11                 [1, 64, 144, 144]         [1, 64, 144, 144]         36,864                    [3, 3]                    764,411,904\n",
              "│    │    └─BatchNorm2d: 3-12            [1, 64, 144, 144]         [1, 64, 144, 144]         128                       --                        128\n",
              "│    │    └─Sequential: 3-13             [1, 64, 144, 144]         [1, 64, 144, 144]         --                        --                        --\n",
              "│    │    └─ReLU: 3-14                   [1, 64, 144, 144]         [1, 64, 144, 144]         --                        --                        --\n",
              "├─Sequential: 1-6                        [1, 64, 144, 144]         [1, 128, 72, 72]          --                        --                        --\n",
              "│    └─BasicResidualBlock: 2-3           [1, 64, 144, 144]         [1, 128, 72, 72]          --                        --                        --\n",
              "│    │    └─Conv2d: 3-15                 [1, 64, 144, 144]         [1, 128, 72, 72]          73,728                    [3, 3]                    382,205,952\n",
              "│    │    └─BatchNorm2d: 3-16            [1, 128, 72, 72]          [1, 128, 72, 72]          256                       --                        256\n",
              "│    │    └─ReLU: 3-17                   [1, 128, 72, 72]          [1, 128, 72, 72]          --                        --                        --\n",
              "│    │    └─Conv2d: 3-18                 [1, 128, 72, 72]          [1, 128, 72, 72]          147,456                   [3, 3]                    764,411,904\n",
              "│    │    └─BatchNorm2d: 3-19            [1, 128, 72, 72]          [1, 128, 72, 72]          256                       --                        256\n",
              "│    │    └─Sequential: 3-20             [1, 64, 144, 144]         [1, 128, 72, 72]          8,448                     --                        42,467,584\n",
              "│    │    └─ReLU: 3-21                   [1, 128, 72, 72]          [1, 128, 72, 72]          --                        --                        --\n",
              "│    └─BasicResidualBlock: 2-4           [1, 128, 72, 72]          [1, 128, 72, 72]          --                        --                        --\n",
              "│    │    └─Conv2d: 3-22                 [1, 128, 72, 72]          [1, 128, 72, 72]          147,456                   [3, 3]                    764,411,904\n",
              "│    │    └─BatchNorm2d: 3-23            [1, 128, 72, 72]          [1, 128, 72, 72]          256                       --                        256\n",
              "│    │    └─ReLU: 3-24                   [1, 128, 72, 72]          [1, 128, 72, 72]          --                        --                        --\n",
              "│    │    └─Conv2d: 3-25                 [1, 128, 72, 72]          [1, 128, 72, 72]          147,456                   [3, 3]                    764,411,904\n",
              "│    │    └─BatchNorm2d: 3-26            [1, 128, 72, 72]          [1, 128, 72, 72]          256                       --                        256\n",
              "│    │    └─Sequential: 3-27             [1, 128, 72, 72]          [1, 128, 72, 72]          --                        --                        --\n",
              "│    │    └─ReLU: 3-28                   [1, 128, 72, 72]          [1, 128, 72, 72]          --                        --                        --\n",
              "├─AdaptiveAvgPool2d: 1-7                 [1, 128, 72, 72]          [1, 128, 1, 1]            --                        --                        --\n",
              "├─Linear: 1-8                            [1, 128]                  [1, 5]                    645                       --                        645\n",
              "=====================================================================================================================================================================\n",
              "Total params: 683,717\n",
              "Trainable params: 683,717\n",
              "Non-trainable params: 0\n",
              "Total mult-adds (G): 6.56\n",
              "=====================================================================================================================================================================\n",
              "Input size (MB): 3.97\n",
              "Forward/backward pass size (MB): 222.95\n",
              "Params size (MB): 2.73\n",
              "Estimated Total Size (MB): 229.66\n",
              "====================================================================================================================================================================="
            ]
          },
          "metadata": {},
          "execution_count": 69
        }
      ]
    },
    {
      "cell_type": "code",
      "source": [
        "#combined with all 3"
      ],
      "metadata": {
        "id": "-Y3S4zoabgZs"
      },
      "execution_count": null,
      "outputs": []
    },
    {
      "cell_type": "markdown",
      "source": [
        "**Creating a Weighted Ensemble Model that would combine pRCC, cam-16 and WBC (trained with masks)**"
      ],
      "metadata": {
        "id": "brFL-9SYcW3L"
      }
    },
    {
      "cell_type": "code",
      "source": [
        "import torch\n",
        "import torch.nn as nn\n",
        "import torch.optim as optim\n",
        "import numpy as np\n",
        "from torchvision import transforms, datasets\n",
        "from torch.utils.data import DataLoader\n",
        "from sklearn.metrics import f1_score, confusion_matrix\n",
        "\n",
        "class WeightedVotingEnsemble(nn.Module):\n",
        "    def __init__(self, model_a, model_b, model_c, weight_a, weight_b, weight_c, num_classes):\n",
        "        super(WeightedVotingEnsemble, self).__init__()\n",
        "        self.model_a = model_a\n",
        "        self.model_b = model_b\n",
        "        self.model_c = model_c\n",
        "        self.weight_a = weight_a\n",
        "        self.weight_b = weight_b\n",
        "        self.weight_c = weight_c\n",
        "        self.linear_transform = nn.Linear(2, num_classes)\n",
        "\n",
        "    def forward(self, x):\n",
        "        predictions_a = self.model_a(x)\n",
        "        predictions_b = self.model_b(x)\n",
        "        latent_data = self.model_c(x)\n",
        "\n",
        "        predictions_c = self.model_a(latent_data)\n",
        "\n",
        "        transformed_predictions_a = self.linear_transform(predictions_a)\n",
        "        transformed_predictions_c = self.linear_transform(predictions_c)\n",
        "\n",
        "        weighted_predictions = (self.weight_a * transformed_predictions_a) + (self.weight_b * predictions_b) + (self.weight_c * transformed_predictions_c)\n",
        "\n",
        "\n",
        "        return weighted_predictions\n"
      ],
      "metadata": {
        "id": "OommajFCQljr"
      },
      "execution_count": 17,
      "outputs": []
    },
    {
      "cell_type": "code",
      "source": [
        "\n",
        "transform = transforms.Compose([\n",
        "    transforms.Resize((384, 384)),\n",
        "    transforms.ToTensor(),\n",
        "    ])\n",
        "\n",
        "\n",
        "train_dir = '/content/drive/My Drive/WBC_with_mask/WBC_1/train/data'\n",
        "val_dir = '/content/drive/My Drive/dataset/WBC_100/val/data'\n",
        "\n",
        "# Load data from the 'train' directory\n",
        "train_data = datasets.ImageFolder(train_dir, transform=transform)\n",
        "train_loader = DataLoader(train_data, batch_size=4, shuffle=True)\n",
        "# Load data from the 'val' directory\n",
        "val_data = datasets.ImageFolder(val_dir, transform=transform)\n",
        "val_loader = DataLoader(val_data, batch_size=4)"
      ],
      "metadata": {
        "id": "zPKWq6_aa3f0"
      },
      "execution_count": null,
      "outputs": []
    },
    {
      "cell_type": "code",
      "source": [
        "\n",
        "state_dict_a = torch.load('/content/drive/My Drive/my_cam16_model.pth')\n",
        "state_dict_b = torch.load('/content/drive/My Drive/my_best_my_wbc_1_model.pth')  #wbc trained with masks\n",
        "state_dict_c = torch.load('/content/drive/My Drive/mypRCC_autoencoder_128_64_20ep.pth')\n",
        "\n",
        "num_classes = 5\n",
        "\n",
        "model_a = CNNModel()\n",
        "model_b = ResNet(num_classes=num_classes)\n",
        "model_c = Autoencoder()\n",
        "model_a.load_state_dict(state_dict_a)\n",
        "model_b.load_state_dict(state_dict_b)\n",
        "model_c.load_state_dict(state_dict_c)\n",
        "\n",
        "model_a.eval()\n",
        "model_b.eval()\n",
        "model_c.eval()\n",
        "\n",
        "num_classes = len(train_data.classes)\n",
        "\n",
        "#prediction weightage\n",
        "\n",
        "weight_a = 0.2\n",
        "weight_b = 0.6\n",
        "weight_c = 0.2\n",
        "\n",
        "device = torch.device(\"cuda\" if torch.cuda.is_available() else \"cpu\")\n",
        "\n",
        "\n",
        "w_ensemble = WeightedVotingEnsemble(model_a, model_b, model_c, weight_a, weight_b, weight_c, num_classes).to(device)"
      ],
      "metadata": {
        "id": "pb15Ez8RbPtg"
      },
      "execution_count": null,
      "outputs": []
    },
    {
      "cell_type": "code",
      "source": [
        "print(w_ensemble)"
      ],
      "metadata": {
        "colab": {
          "base_uri": "https://localhost:8080/"
        },
        "id": "bEOpHjzbjnoY",
        "outputId": "a43d1582-ef0f-4485-8265-975b43133e38"
      },
      "execution_count": null,
      "outputs": [
        {
          "output_type": "stream",
          "name": "stdout",
          "text": [
            "WeightedVotingEnsemble(\n",
            "  (model_a): CNNModel(\n",
            "    (conv1): Conv2d(3, 32, kernel_size=(3, 3), stride=(1, 1), padding=(1, 1))\n",
            "    (conv2): Conv2d(32, 64, kernel_size=(3, 3), stride=(1, 1), padding=(1, 1))\n",
            "    (conv3): Conv2d(64, 128, kernel_size=(3, 3), stride=(1, 1), padding=(1, 1))\n",
            "    (pool): MaxPool2d(kernel_size=2, stride=2, padding=0, dilation=1, ceil_mode=False)\n",
            "    (fc1): Linear(in_features=294912, out_features=128, bias=True)\n",
            "    (fc2): Linear(in_features=128, out_features=2, bias=True)\n",
            "  )\n",
            "  (model_b): ResNet(\n",
            "    (conv1): Conv2d(3, 64, kernel_size=(7, 7), stride=(2, 2), padding=(3, 3), bias=False)\n",
            "    (bn1): BatchNorm2d(64, eps=1e-05, momentum=0.1, affine=True, track_running_stats=True)\n",
            "    (relu): ReLU(inplace=True)\n",
            "    (maxpool): MaxPool2d(kernel_size=3, stride=2, padding=1, dilation=1, ceil_mode=False)\n",
            "    (layer1): Sequential(\n",
            "      (0): BasicResidualBlock(\n",
            "        (conv1): Conv2d(64, 64, kernel_size=(3, 3), stride=(1, 1), padding=(1, 1), bias=False)\n",
            "        (bn1): BatchNorm2d(64, eps=1e-05, momentum=0.1, affine=True, track_running_stats=True)\n",
            "        (relu): ReLU(inplace=True)\n",
            "        (conv2): Conv2d(64, 64, kernel_size=(3, 3), stride=(1, 1), padding=(1, 1), bias=False)\n",
            "        (bn2): BatchNorm2d(64, eps=1e-05, momentum=0.1, affine=True, track_running_stats=True)\n",
            "        (shortcut): Sequential()\n",
            "      )\n",
            "      (1): BasicResidualBlock(\n",
            "        (conv1): Conv2d(64, 64, kernel_size=(3, 3), stride=(1, 1), padding=(1, 1), bias=False)\n",
            "        (bn1): BatchNorm2d(64, eps=1e-05, momentum=0.1, affine=True, track_running_stats=True)\n",
            "        (relu): ReLU(inplace=True)\n",
            "        (conv2): Conv2d(64, 64, kernel_size=(3, 3), stride=(1, 1), padding=(1, 1), bias=False)\n",
            "        (bn2): BatchNorm2d(64, eps=1e-05, momentum=0.1, affine=True, track_running_stats=True)\n",
            "        (shortcut): Sequential()\n",
            "      )\n",
            "    )\n",
            "    (layer2): Sequential(\n",
            "      (0): BasicResidualBlock(\n",
            "        (conv1): Conv2d(64, 128, kernel_size=(3, 3), stride=(2, 2), padding=(1, 1), bias=False)\n",
            "        (bn1): BatchNorm2d(128, eps=1e-05, momentum=0.1, affine=True, track_running_stats=True)\n",
            "        (relu): ReLU(inplace=True)\n",
            "        (conv2): Conv2d(128, 128, kernel_size=(3, 3), stride=(1, 1), padding=(1, 1), bias=False)\n",
            "        (bn2): BatchNorm2d(128, eps=1e-05, momentum=0.1, affine=True, track_running_stats=True)\n",
            "        (shortcut): Sequential(\n",
            "          (0): Conv2d(64, 128, kernel_size=(1, 1), stride=(2, 2), bias=False)\n",
            "          (1): BatchNorm2d(128, eps=1e-05, momentum=0.1, affine=True, track_running_stats=True)\n",
            "        )\n",
            "      )\n",
            "      (1): BasicResidualBlock(\n",
            "        (conv1): Conv2d(128, 128, kernel_size=(3, 3), stride=(1, 1), padding=(1, 1), bias=False)\n",
            "        (bn1): BatchNorm2d(128, eps=1e-05, momentum=0.1, affine=True, track_running_stats=True)\n",
            "        (relu): ReLU(inplace=True)\n",
            "        (conv2): Conv2d(128, 128, kernel_size=(3, 3), stride=(1, 1), padding=(1, 1), bias=False)\n",
            "        (bn2): BatchNorm2d(128, eps=1e-05, momentum=0.1, affine=True, track_running_stats=True)\n",
            "        (shortcut): Sequential()\n",
            "      )\n",
            "    )\n",
            "    (avgpool): AdaptiveAvgPool2d(output_size=(1, 1))\n",
            "    (fc): Linear(in_features=128, out_features=5, bias=True)\n",
            "  )\n",
            "  (model_c): Autoencoder(\n",
            "    (encoder): Sequential(\n",
            "      (0): Conv2d(3, 128, kernel_size=(3, 3), stride=(1, 1), padding=(1, 1))\n",
            "      (1): ReLU()\n",
            "      (2): MaxPool2d(kernel_size=2, stride=2, padding=0, dilation=1, ceil_mode=False)\n",
            "      (3): Conv2d(128, 64, kernel_size=(3, 3), stride=(1, 1), padding=(1, 1))\n",
            "      (4): ReLU()\n",
            "      (5): MaxPool2d(kernel_size=2, stride=2, padding=0, dilation=1, ceil_mode=False)\n",
            "    )\n",
            "    (decoder): Sequential(\n",
            "      (0): ConvTranspose2d(64, 128, kernel_size=(2, 2), stride=(2, 2))\n",
            "      (1): ReLU()\n",
            "      (2): ConvTranspose2d(128, 3, kernel_size=(2, 2), stride=(2, 2))\n",
            "      (3): Sigmoid()\n",
            "    )\n",
            "  )\n",
            "  (linear_transform): Linear(in_features=2, out_features=5, bias=True)\n",
            ")\n"
          ]
        }
      ]
    },
    {
      "cell_type": "markdown",
      "source": [
        "**Model Training**"
      ],
      "metadata": {
        "id": "QwJ_DWkwcyzK"
      }
    },
    {
      "cell_type": "code",
      "source": [
        "criterion = nn.CrossEntropyLoss()\n",
        "optimizer = optim.Adam(w_ensemble.parameters(), lr=0.001)\n",
        "validation_accuracy_list = []\n",
        "f1_score_list = []\n",
        "\n",
        "\n",
        "\n",
        "training_loss = []\n",
        "training_accuracy = []\n",
        "for epoch in range(20):\n",
        "    print(\"in epoch:\", epoch)\n",
        "    w_ensemble.train()\n",
        "    running_loss = 0.0\n",
        "    correct = 0\n",
        "    total = 0\n",
        "    for inputs, labels in train_loader:\n",
        "        #print(\"inside batch\")\n",
        "        inputs, labels = inputs.to(device), labels.to(device)\n",
        "        optimizer.zero_grad()\n",
        "        outputs = w_ensemble(inputs)\n",
        "        loss = criterion(outputs, labels)\n",
        "        loss.backward()\n",
        "        optimizer.step()\n",
        "        running_loss += loss.item()\n",
        "\n",
        "        _, predicted = torch.max(outputs, 1)\n",
        "        total += labels.size(0)\n",
        "        correct += (predicted == labels).sum().item()\n",
        "\n",
        "    accuracy = 100 * correct / total\n",
        "    print(f\"Epoch {epoch + 1}, Loss: {running_loss / len(train_loader)}, Training Accuracy: {accuracy:.2f}%\")\n",
        "    training_loss.append(running_loss / len(train_loader))\n",
        "    training_accuracy.append(accuracy)"
      ],
      "metadata": {
        "id": "z8zJEDVmbVld",
        "colab": {
          "base_uri": "https://localhost:8080/"
        },
        "outputId": "63196002-8da1-4f6a-ee6a-23d456db25ef"
      },
      "execution_count": null,
      "outputs": [
        {
          "output_type": "stream",
          "name": "stdout",
          "text": [
            "in epoch: 0\n",
            "Epoch 1, Loss: 0.9202483711035355, Training Accuracy: 59.55%\n",
            "in epoch: 1\n",
            "Epoch 2, Loss: 0.869409688141035, Training Accuracy: 67.42%\n",
            "in epoch: 2\n",
            "Epoch 3, Loss: 0.8405794838200444, Training Accuracy: 66.29%\n",
            "in epoch: 3\n",
            "Epoch 4, Loss: 0.8227594093136166, Training Accuracy: 70.79%\n",
            "in epoch: 4\n",
            "Epoch 5, Loss: 0.7410657626131306, Training Accuracy: 75.28%\n",
            "in epoch: 5\n",
            "Epoch 6, Loss: 0.8401161406351172, Training Accuracy: 74.16%\n",
            "in epoch: 6\n",
            "Epoch 7, Loss: 0.8025957903136378, Training Accuracy: 70.79%\n",
            "in epoch: 7\n",
            "Epoch 8, Loss: 0.8344895463922749, Training Accuracy: 67.42%\n",
            "in epoch: 8\n",
            "Epoch 9, Loss: 0.7289284189110217, Training Accuracy: 71.91%\n",
            "in epoch: 9\n",
            "Epoch 10, Loss: 0.7093055248260498, Training Accuracy: 71.91%\n",
            "in epoch: 10\n",
            "Epoch 11, Loss: 0.652259208585905, Training Accuracy: 76.40%\n",
            "in epoch: 11\n",
            "Epoch 12, Loss: 0.618086792204691, Training Accuracy: 80.90%\n",
            "in epoch: 12\n",
            "Epoch 13, Loss: 0.7220592498779297, Training Accuracy: 78.65%\n",
            "in epoch: 13\n",
            "Epoch 14, Loss: 0.5394292985615523, Training Accuracy: 82.02%\n",
            "in epoch: 14\n",
            "Epoch 15, Loss: 0.5870612095231595, Training Accuracy: 77.53%\n",
            "in epoch: 15\n",
            "Epoch 16, Loss: 0.5594192898791769, Training Accuracy: 80.90%\n",
            "in epoch: 16\n",
            "Epoch 17, Loss: 0.48222952498042065, Training Accuracy: 79.78%\n",
            "in epoch: 17\n",
            "Epoch 18, Loss: 0.5564343791616999, Training Accuracy: 80.90%\n",
            "in epoch: 18\n",
            "Epoch 19, Loss: 0.3776173805413039, Training Accuracy: 87.64%\n",
            "in epoch: 19\n",
            "Epoch 20, Loss: 0.4384103879008604, Training Accuracy: 87.64%\n"
          ]
        }
      ]
    },
    {
      "cell_type": "code",
      "source": [
        "torch.save(w_ensemble.state_dict(), '/content/drive/My Drive/my_weighted_combined_wbc_1.pth')"
      ],
      "metadata": {
        "id": "MpXe8Kf6fHnj"
      },
      "execution_count": null,
      "outputs": []
    },
    {
      "cell_type": "code",
      "source": [
        "print(training_loss)\n",
        "print(training_accuracy)"
      ],
      "metadata": {
        "colab": {
          "base_uri": "https://localhost:8080/"
        },
        "id": "GnOgX8PPju9T",
        "outputId": "d2f2f303-a597-4e12-f0e7-e4b9b480adab"
      },
      "execution_count": null,
      "outputs": [
        {
          "output_type": "stream",
          "name": "stdout",
          "text": [
            "[0.9202483711035355, 0.869409688141035, 0.8405794838200444, 0.8227594093136166, 0.7410657626131306, 0.8401161406351172, 0.8025957903136378, 0.8344895463922749, 0.7289284189110217, 0.7093055248260498, 0.652259208585905, 0.618086792204691, 0.7220592498779297, 0.5394292985615523, 0.5870612095231595, 0.5594192898791769, 0.48222952498042065, 0.5564343791616999, 0.3776173805413039, 0.4384103879008604]\n",
            "[59.550561797752806, 67.41573033707866, 66.29213483146067, 70.78651685393258, 75.28089887640449, 74.15730337078652, 70.78651685393258, 67.41573033707866, 71.91011235955057, 71.91011235955057, 76.40449438202248, 80.89887640449439, 78.65168539325843, 82.02247191011236, 77.52808988764045, 80.89887640449439, 79.7752808988764, 80.89887640449439, 87.64044943820225, 87.64044943820225]\n"
          ]
        }
      ]
    },
    {
      "cell_type": "markdown",
      "source": [
        "**Validation done by me**"
      ],
      "metadata": {
        "id": "fh3ScxNydEAV"
      }
    },
    {
      "cell_type": "code",
      "source": [
        "print(\"doing val\")\n",
        "    # Perform validation after all epochs\n",
        "w_ensemble.eval()  # Set the model to evaluation mode\n",
        "with torch.no_grad():\n",
        "    true_labels = []\n",
        "    predicted_labels = []\n",
        "\n",
        "    for inputs, labels in val_loader:\n",
        "        #print(\"inside val batch\")\n",
        "        inputs, labels = inputs.to(device), labels.to(device)\n",
        "        outputs = w_ensemble(inputs)\n",
        "        _, predicted = torch.max(outputs, 1)\n",
        "\n",
        "        # Append true and predicted labels for F1 score\n",
        "        true_labels += labels.tolist()\n",
        "        predicted_labels += predicted.tolist()\n",
        "\n",
        "    # Calculate F1 score\n",
        "    f1 = f1_score(true_labels, predicted_labels, average='weighted')\n",
        "\n",
        "    # Calculate overall accuracy\n",
        "    correct_predictions = (np.array(true_labels) == np.array(predicted_labels)).sum()\n",
        "    total_predictions = len(true_labels)\n",
        "    overall_accuracy = 100 * correct_predictions / total_predictions\n",
        "\n",
        "    # Calculate and store the confusion matrix\n",
        "    confusion = confusion_matrix(true_labels, predicted_labels)\n",
        "\n",
        "    # Print metrics for the final validation\n",
        "    print('Final Validation Metrics:')\n",
        "    print(f'Validation Accuracy: {overall_accuracy:.2f}%')\n",
        "    print(f'F1 Score: {f1:.2f}')\n",
        "\n",
        "    # Print the confusion matrix for the final validation\n",
        "    print('Confusion Matrix (Final Validation):')\n",
        "    print(confusion)"
      ],
      "metadata": {
        "id": "ngPhfeagbZqT",
        "colab": {
          "base_uri": "https://localhost:8080/"
        },
        "outputId": "90ce556a-3660-4d8b-dbff-01dbe84d738a"
      },
      "execution_count": null,
      "outputs": [
        {
          "output_type": "stream",
          "name": "stdout",
          "text": [
            "doing val\n",
            "Final Validation Metrics:\n",
            "Validation Accuracy: 71.53%\n",
            "F1 Score: 0.68\n",
            "Confusion Matrix (Final Validation):\n",
            "[[ 31   1   1   0   3]\n",
            " [  0  10  32   0  84]\n",
            " [  0   1 325   0  86]\n",
            " [  2   7  22   0  64]\n",
            " [  3   1 185   0 870]]\n"
          ]
        }
      ]
    },
    {
      "cell_type": "markdown",
      "source": [
        "![image.png](data:image/png;base64,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)"
      ],
      "metadata": {
        "id": "w8MgdR2nZ3ua"
      }
    },
    {
      "cell_type": "markdown",
      "source": [
        "**Class-wise Detailed Report**"
      ],
      "metadata": {
        "id": "6wzx0g7_dlOU"
      }
    },
    {
      "cell_type": "code",
      "source": [
        "from sklearn.metrics import classification_report\n",
        "\n",
        "report = classification_report(true_labels, predicted_labels, target_names=train_data.classes)\n"
      ],
      "metadata": {
        "id": "u3fLwF30oGmx"
      },
      "execution_count": null,
      "outputs": []
    },
    {
      "cell_type": "code",
      "source": [
        "print(report)"
      ],
      "metadata": {
        "colab": {
          "base_uri": "https://localhost:8080/"
        },
        "id": "pRAnKRdHn07_",
        "outputId": "b617ef8d-ff6a-430e-d6d8-20c61e2e25ab"
      },
      "execution_count": null,
      "outputs": [
        {
          "output_type": "stream",
          "name": "stdout",
          "text": [
            "              precision    recall  f1-score   support\n",
            "\n",
            "    Basophil       0.86      0.86      0.86        36\n",
            "  Eosinophil       0.50      0.08      0.14       126\n",
            "  Lymphocyte       0.58      0.79      0.67       412\n",
            "    Monocyte       0.00      0.00      0.00        95\n",
            "  Neutrophil       0.79      0.82      0.80      1059\n",
            "\n",
            "    accuracy                           0.72      1728\n",
            "   macro avg       0.54      0.51      0.49      1728\n",
            "weighted avg       0.67      0.72      0.68      1728\n",
            "\n"
          ]
        }
      ]
    },
    {
      "cell_type": "code",
      "source": [],
      "metadata": {
        "id": "DVT9KZwgpVcA"
      },
      "execution_count": null,
      "outputs": []
    },
    {
      "cell_type": "markdown",
      "source": [
        "**Validation code for evaluators**"
      ],
      "metadata": {
        "id": "zqjqu_i_d940"
      }
    },
    {
      "cell_type": "code",
      "source": [
        "import torch\n",
        "import torch.nn as nn\n",
        "import torch.optim as optim\n",
        "import numpy as np\n",
        "from torchvision import transforms, datasets\n",
        "from torch.utils.data import DataLoader\n",
        "from sklearn.metrics import f1_score, confusion_matrix\n",
        "\n",
        "class WeightedVotingEnsemble(nn.Module):\n",
        "    def __init__(self, model_a, model_b, model_c, weight_a, weight_b, weight_c, num_classes):\n",
        "        super(WeightedVotingEnsemble, self).__init__()\n",
        "        self.model_a = model_a\n",
        "        self.model_b = model_b\n",
        "        self.model_c = model_c\n",
        "        self.weight_a = weight_a\n",
        "        self.weight_b = weight_b\n",
        "        self.weight_c = weight_c\n",
        "        self.linear_transform = nn.Linear(2, num_classes)\n",
        "\n",
        "    def forward(self, x):\n",
        "\n",
        "        predictions_a = self.model_a(x)\n",
        "        predictions_b = self.model_b(x)\n",
        "        latent_data = self.model_c(x)\n",
        "\n",
        "        predictions_c = self.model_a(latent_data)\n",
        "\n",
        "        transformed_predictions_a = self.linear_transform(predictions_a)\n",
        "        transformed_predictions_c = self.linear_transform(predictions_c)\n",
        "\n",
        "        weighted_predictions = (self.weight_a * transformed_predictions_a) + (self.weight_b * predictions_b) + (self.weight_c * transformed_predictions_c)\n",
        "\n",
        "\n",
        "        return weighted_predictions\n",
        "\n"
      ],
      "metadata": {
        "id": "6415HTsceTIh"
      },
      "execution_count": 1,
      "outputs": []
    },
    {
      "cell_type": "code",
      "source": [
        "#pRCC\n",
        "\n",
        "class Autoencoder(nn.Module):\n",
        "    def __init__(self):\n",
        "        super(Autoencoder, self).__init__()\n",
        "        self.encoder = nn.Sequential(\n",
        "            nn.Conv2d(3, 128, kernel_size=3, padding=1),\n",
        "            nn.ReLU(),\n",
        "            nn.MaxPool2d(2),\n",
        "            nn.Conv2d(128, 64, kernel_size=3, padding=1),\n",
        "            nn.ReLU(),\n",
        "            nn.MaxPool2d(2)\n",
        "        )\n",
        "        self.decoder = nn.Sequential(\n",
        "            nn.ConvTranspose2d(64, 128, kernel_size=2, stride=2),\n",
        "            nn.ReLU(),\n",
        "            nn.ConvTranspose2d(128, 3, kernel_size=2, stride=2),\n",
        "            nn.Sigmoid()\n",
        "        )\n",
        "\n",
        "    def forward(self, x):\n",
        "        x = self.encoder(x)\n",
        "        x = self.decoder(x)\n",
        "        return x"
      ],
      "metadata": {
        "id": "sQ7WWzHliTfv"
      },
      "execution_count": 2,
      "outputs": []
    },
    {
      "cell_type": "code",
      "source": [
        "# cam-16\n",
        "class CNNModel(nn.Module):\n",
        "\n",
        "    def __init__(self):\n",
        "        super(CNNModel, self).__init__()\n",
        "        # Convolutional layers\n",
        "        self.conv1 = nn.Conv2d(3, 32, kernel_size=3, stride=1, padding=1)\n",
        "        self.conv2 = nn.Conv2d(32, 64, kernel_size=3, stride=1, padding=1)\n",
        "        self.conv3 = nn.Conv2d(64, 128, kernel_size=3, stride=1, padding=1)\n",
        "        self.pool = nn.MaxPool2d(kernel_size=2, stride=2)\n",
        "\n",
        "\n",
        "        self.fc1 = nn.Linear(128 * 48 * 48, 128)\n",
        "        self.fc2 = nn.Linear(128, 2)\n",
        "\n",
        "    def forward(self, x):\n",
        "        x = self.pool(torch.relu(self.conv1(x)))\n",
        "        x = self.pool(torch.relu(self.conv2(x)))\n",
        "        x = self.pool(torch.relu(self.conv3(x)))\n",
        "\n",
        "\n",
        "        x = x.view(x.size(0), -1)\n",
        "\n",
        "        x = torch.relu(self.fc1(x))\n",
        "        x = self.fc2(x)\n",
        "        return x"
      ],
      "metadata": {
        "id": "kBNEOOhEiTf4"
      },
      "execution_count": 5,
      "outputs": []
    },
    {
      "cell_type": "code",
      "source": [
        "# wbc\n",
        "import torch\n",
        "import torch.nn as nn\n",
        "import torch.nn.functional as F\n",
        "\n",
        "class BasicResidualBlock(nn.Module):\n",
        "    def __init__(self, in_channels, out_channels, stride=1):\n",
        "        super(BasicResidualBlock, self).__init__()\n",
        "        self.conv1 = nn.Conv2d(in_channels, out_channels, kernel_size=3, stride=stride, padding=1, bias=False)\n",
        "        self.bn1 = nn.BatchNorm2d(out_channels)\n",
        "        self.relu = nn.ReLU(inplace=True)\n",
        "        self.conv2 = nn.Conv2d(out_channels, out_channels, kernel_size=3, padding=1, bias=False)\n",
        "        self.bn2 = nn.BatchNorm2d(out_channels)\n",
        "        self.shortcut = nn.Sequential()\n",
        "\n",
        "        if stride != 1 or in_channels != out_channels:\n",
        "            self.shortcut = nn.Sequential(\n",
        "                nn.Conv2d(in_channels, out_channels, kernel_size=1, stride=stride, bias=False),\n",
        "                nn.BatchNorm2d(out_channels)\n",
        "            )\n",
        "\n",
        "    def forward(self, x):\n",
        "        out = self.conv1(x)\n",
        "        out = self.bn1(out)\n",
        "        out = self.relu(out)\n",
        "        out = self.conv2(out)\n",
        "        out = self.bn2(out)\n",
        "        out += self.shortcut(x)\n",
        "        out = self.relu(out)\n",
        "        return out\n",
        "\n",
        "class ResNet(nn.Module):\n",
        "    def __init__(self, num_classes=5):\n",
        "        super(ResNet, self).__init__()\n",
        "        self.in_channels = 64\n",
        "        self.conv1 = nn.Conv2d(3, 64, kernel_size=7, stride=2, padding=3, bias=False)\n",
        "        self.bn1 = nn.BatchNorm2d(64)\n",
        "        self.relu = nn.ReLU(inplace=True)\n",
        "        self.maxpool = nn.MaxPool2d(kernel_size=3, stride=2, padding=1)\n",
        "\n",
        "        self.layer1 = self._make_layer(BasicResidualBlock, 64, 2)\n",
        "        self.layer2 = self._make_layer(BasicResidualBlock, 128, 2, stride=2)\n",
        "\n",
        "        self.avgpool = nn.AdaptiveAvgPool2d((1, 1))\n",
        "        self.fc = nn.Linear(128, 5)\n",
        "\n",
        "    def _make_layer(self, block, out_channels, num_blocks, stride=1):\n",
        "        layers = []\n",
        "        layers.append(block(self.in_channels, out_channels, stride))\n",
        "        self.in_channels = out_channels\n",
        "        for _ in range(1, num_blocks):\n",
        "            layers.append(block(out_channels, out_channels))\n",
        "        return nn.Sequential(*layers)\n",
        "\n",
        "    def forward(self, x):\n",
        "        out = self.conv1(x)\n",
        "        out = self.bn1(out)\n",
        "        out = self.relu(out)\n",
        "        out = self.maxpool(out)\n",
        "        out = self.layer1(out)\n",
        "        out = self.layer2(out)\n",
        "        out = self.avgpool(out)\n",
        "        out = out.view(out.size(0), -1)\n",
        "        out = self.fc(out)\n",
        "        return out"
      ],
      "metadata": {
        "id": "ymKMA_xEiTf4"
      },
      "execution_count": 6,
      "outputs": []
    },
    {
      "cell_type": "code",
      "source": [
        "\n",
        "transform = transforms.Compose([\n",
        "    transforms.Resize((384, 384)),\n",
        "    transforms.ToTensor(),\n",
        "    ])\n",
        "\n",
        "\n",
        "val_dir = '/content/drive/My Drive/dataset/WBC_100/val/data' #kindly change the test data path\n",
        "\n",
        "val_data = datasets.ImageFolder(val_dir, transform=transform)\n",
        "val_loader = DataLoader(val_data, batch_size=4)\n",
        "vl = len(val_loader.dataset)\n",
        "print(\"Length of the dataset:\", vl)"
      ],
      "metadata": {
        "id": "r0EUWfxdeTIu"
      },
      "execution_count": null,
      "outputs": []
    },
    {
      "cell_type": "code",
      "source": [
        "# The weighted ensemble combines the trained models\n",
        "state_dict_a = torch.load('/content/drive/My Drive/my_cam16_model.pth')   #change path to the cam-16 model. this would be in the sub-folder called 'models/cam-16'\n",
        "state_dict_b = torch.load('/content/drive/My Drive/my_best_my_wbc_1_model.pth')  #path to the wbc-1 (trained with masks) model. this would be in the sub-folder called 'models/wbc with masks (intermediary step)'\n",
        "state_dict_c = torch.load('/content/drive/My Drive/mypRCC_autoencoder_128_64_20ep.pth') #path to the pRCC autoencoder. this would be in the sub-folder called 'models/pRCC'\n",
        "\n",
        "num_classes = 5\n",
        "# Create model instances and load the state dictionaries\n",
        "model_a = CNNModel()\n",
        "model_b = ResNet(num_classes=num_classes)\n",
        "model_c = Autoencoder()\n",
        "# Load the state dictionaries into the models\n",
        "model_a.load_state_dict(state_dict_a)\n",
        "model_b.load_state_dict(state_dict_b)\n",
        "model_c.load_state_dict(state_dict_c)\n",
        "\n",
        "model_a.eval()\n",
        "model_b.eval()\n",
        "model_c.eval()\n",
        "\n",
        "num_classes = 5\n",
        "\n",
        "#prediction weightage\n",
        "weight_a = 0.2\n",
        "weight_b = 0.6\n",
        "weight_c = 0.2\n",
        "\n",
        "device = torch.device(\"cuda\" if torch.cuda.is_available() else \"cpu\")\n",
        "\n",
        "\n",
        "w_ensemble = WeightedVotingEnsemble(model_a, model_b, model_c, weight_a, weight_b, weight_c, num_classes).to(device)"
      ],
      "metadata": {
        "id": "bPj4z_hSeTIu"
      },
      "execution_count": 10,
      "outputs": []
    },
    {
      "cell_type": "code",
      "source": [
        "state_dict_w = torch.load('/content/drive/My Drive/my_weighted_combined_wbc_1.pth')  #path to trained weighted ensemble wbc 1. this would be in the sub-folder called 'models/wbc with additional info (masks and pre-training)'\n",
        "\n",
        "\n",
        "device = torch.device(\"cuda:0\" if torch.cuda.is_available() else \"cpu\")\n",
        "\n",
        "w_ensemble = WeightedVotingEnsemble(model_a, model_b, model_c, weight_a, weight_b, weight_c, num_classes).to(device)\n",
        "\n",
        "w_ensemble.load_state_dict(state_dict_w)\n",
        "\n",
        "w_ensemble.eval()"
      ],
      "metadata": {
        "id": "VD_rTMt4qJJO"
      },
      "execution_count": null,
      "outputs": []
    },
    {
      "cell_type": "code",
      "source": [
        "print(\"doing val\")\n",
        "    # Perform validation after all epochs\n",
        "w_ensemble.eval()  # Set the model to evaluation mode\n",
        "with torch.no_grad():\n",
        "    true_labels = []\n",
        "    predicted_labels = []\n",
        "\n",
        "    for inputs, labels in val_loader:\n",
        "        #print(\"inside val batch\")\n",
        "        inputs, labels = inputs.to(device), labels.to(device)\n",
        "        outputs = w_ensemble(inputs)\n",
        "        _, predicted = torch.max(outputs, 1)\n",
        "\n",
        "        # Append true and predicted labels for F1 score\n",
        "        true_labels += labels.tolist()\n",
        "        predicted_labels += predicted.tolist()\n",
        "\n",
        "    # Calculate F1 score\n",
        "    f1 = f1_score(true_labels, predicted_labels, average='weighted')\n",
        "\n",
        "    # Calculate overall accuracy\n",
        "    correct_predictions = (np.array(true_labels) == np.array(predicted_labels)).sum()\n",
        "    total_predictions = len(true_labels)\n",
        "    overall_accuracy = 100 * correct_predictions / total_predictions\n",
        "\n",
        "    # Calculate and store the confusion matrix\n",
        "    confusion = confusion_matrix(true_labels, predicted_labels)\n",
        "\n",
        "    # Print metrics for the final validation\n",
        "    print('Final Validation Metrics:')\n",
        "    print(f'Validation Accuracy: {overall_accuracy:.2f}%')\n",
        "    print(f'F1 Score: {f1:.2f}')\n",
        "\n",
        "    # Print the confusion matrix for the final validation\n",
        "    print('Confusion Matrix (Final Validation):')\n",
        "    print(confusion)"
      ],
      "metadata": {
        "id": "TwyZfu55k1DQ"
      },
      "execution_count": null,
      "outputs": []
    },
    {
      "cell_type": "markdown",
      "source": [
        "![image.png](data:image/png;base64,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)"
      ],
      "metadata": {
        "id": "kcejI0T3Szic"
      }
    },
    {
      "cell_type": "markdown",
      "source": [
        "**Class-wise Detailed Report**"
      ],
      "metadata": {
        "id": "eXorZK-XeBO0"
      }
    },
    {
      "cell_type": "code",
      "source": [
        "from sklearn.metrics import classification_report\n",
        "\n",
        "report = classification_report(true_labels, predicted_labels, target_names=train_data.classes)\n"
      ],
      "metadata": {
        "id": "yJDVV6lReBO0"
      },
      "execution_count": null,
      "outputs": []
    },
    {
      "cell_type": "code",
      "source": [
        "print(report)"
      ],
      "metadata": {
        "id": "BKo8wl4zeBO1"
      },
      "execution_count": null,
      "outputs": []
    }
  ]
}